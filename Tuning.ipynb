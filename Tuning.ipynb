{
 "cells": [
  {
   "cell_type": "code",
   "id": "initial_id",
   "metadata": {
    "ExecuteTime": {
     "end_time": "2025-03-27T18:18:31.398271Z",
     "start_time": "2025-03-27T18:18:31.383287Z"
    }
   },
   "source": [
    "import optuna\n",
    "import torch\n",
    "import torchvision.transforms as transforms\n",
    "import torch.nn as nn\n",
    "\n",
    "from torchvision.datasets import ImageFolder\n",
    "from torch.utils.data import DataLoader, random_split, TensorDataset, Subset\n",
    "import torch.optim as optim\n",
    "from sklearn.metrics import f1_score\n",
    "import matplotlib.pyplot as plt\n",
    "import numpy as np"
   ],
   "outputs": [],
   "execution_count": 23
  },
  {
   "cell_type": "code",
   "id": "ff1b03a2d0337e49",
   "metadata": {
    "ExecuteTime": {
     "end_time": "2025-03-27T18:18:31.414546Z",
     "start_time": "2025-03-27T18:18:31.408763Z"
    }
   },
   "source": [
    "device = torch.device(\"cuda\" if torch.cuda.is_available() else \"cpu\")\n",
    "print(device)"
   ],
   "outputs": [
    {
     "name": "stdout",
     "output_type": "stream",
     "text": [
      "cuda\n"
     ]
    }
   ],
   "execution_count": 24
  },
  {
   "cell_type": "code",
   "id": "82676fc2093d3bfc",
   "metadata": {
    "ExecuteTime": {
     "end_time": "2025-03-27T18:18:31.492943Z",
     "start_time": "2025-03-27T18:18:31.485566Z"
    }
   },
   "source": [
    "data_dir = \"data/raw-img\" "
   ],
   "outputs": [],
   "execution_count": 25
  },
  {
   "cell_type": "code",
   "id": "4e0dcbd331fdef93",
   "metadata": {
    "ExecuteTime": {
     "end_time": "2025-03-27T18:18:31.523090Z",
     "start_time": "2025-03-27T18:18:31.509166Z"
    }
   },
   "source": [
    "transform = transforms.Compose([\n",
    "    transforms.Resize((224, 224)),\n",
    "    transforms.RandomHorizontalFlip(),\n",
    "    transforms.ToTensor(),\n",
    "    transforms.ConvertImageDtype(torch.float16),\n",
    "    transforms.Normalize(mean=[0.5, 0.5, 0.5], std=[0.5, 0.5, 0.5])\n",
    "])"
   ],
   "outputs": [],
   "execution_count": 26
  },
  {
   "cell_type": "code",
   "id": "c9fd4e508ca24c50",
   "metadata": {
    "ExecuteTime": {
     "end_time": "2025-03-27T18:18:31.617295Z",
     "start_time": "2025-03-27T18:18:31.539594Z"
    }
   },
   "source": [
    "full_dataset = ImageFolder(root=data_dir, transform=transform)\n",
    "class_names = full_dataset.classes"
   ],
   "outputs": [],
   "execution_count": 27
  },
  {
   "cell_type": "code",
   "id": "b000d9750b35e29c",
   "metadata": {
    "ExecuteTime": {
     "end_time": "2025-03-27T18:18:31.648207Z",
     "start_time": "2025-03-27T18:18:31.633995Z"
    }
   },
   "source": [
    "train_size = int(0.7 * len(full_dataset))\n",
    "val_size = int(0.15 * len(full_dataset))\n",
    "test_size = len(full_dataset) - train_size - val_size"
   ],
   "outputs": [],
   "execution_count": 28
  },
  {
   "cell_type": "code",
   "id": "520796d0814748e0",
   "metadata": {
    "ExecuteTime": {
     "end_time": "2025-03-27T18:18:31.679450Z",
     "start_time": "2025-03-27T18:18:31.664666Z"
    }
   },
   "source": [
    "train_dataset, val_dataset, test_dataset = random_split(full_dataset, [train_size, val_size, test_size], generator=torch.Generator().manual_seed(42))"
   ],
   "outputs": [],
   "execution_count": 29
  },
  {
   "cell_type": "code",
   "id": "21a6abc1ab5e535",
   "metadata": {
    "ExecuteTime": {
     "end_time": "2025-03-27T18:18:31.710096Z",
     "start_time": "2025-03-27T18:18:31.695773Z"
    }
   },
   "source": [
    "train_loader = DataLoader(train_dataset, batch_size=64, shuffle=True, pin_memory=True)\n",
    "test_loader = DataLoader(test_dataset, batch_size=64, shuffle=False, pin_memory=True)\n",
    "val_loader = DataLoader(val_dataset, batch_size=64, shuffle=False, pin_memory=True)"
   ],
   "outputs": [],
   "execution_count": 30
  },
  {
   "cell_type": "code",
   "id": "13de0f3dbe3f362f",
   "metadata": {
    "ExecuteTime": {
     "end_time": "2025-03-27T18:18:31.741214Z",
     "start_time": "2025-03-27T18:18:31.726569Z"
    }
   },
   "source": [
    "class MyModel(nn.Module):\n",
    "    def __init__(self, fc_layers: tuple, dropout: float):\n",
    "        super(MyModel, self).__init__()\n",
    "        \n",
    "        self.conv1 = nn.Conv2d(3, 16, kernel_size=3, padding=1)\n",
    "        self.conv2 = nn.Conv2d(16, 32, kernel_size=3, padding=1)\n",
    "        self.conv3 = nn.Conv2d(32, 64, kernel_size=3, padding=1)\n",
    "        self.conv4 = nn.Conv2d(64, 128, kernel_size=3, padding=1)\n",
    "        self.conv5 = nn.Conv2d(128, 256, kernel_size=3, padding=1)\n",
    "        \n",
    "        self.relu = nn.ReLU()\n",
    "        self.maxpool = nn.MaxPool2d(kernel_size=2)\n",
    "        self.dropout = nn.Dropout(dropout)\n",
    "        \n",
    "        self.flatten = nn.Flatten()\n",
    "        self.linear_relu_stack = self.__generate_stack(fc_layers, dropout)\n",
    "        \n",
    "    def forward(self, x):\n",
    "        x = self.maxpool(self.relu(self.conv1(x)))\n",
    "        x = self.dropout(x)\n",
    "        x = self.maxpool(self.relu(self.conv2(x)))\n",
    "        x = self.maxpool(self.relu(self.conv3(x)))\n",
    "        x = self.dropout(x)\n",
    "        x = self.maxpool(self.relu(self.conv4(x)))\n",
    "        x = self.maxpool(self.relu(self.conv5(x)))\n",
    "        x = self.dropout(x)\n",
    "        \n",
    "        x = self.flatten(x)\n",
    "        x = self.linear_relu_stack(x)\n",
    "        return x\n",
    "    \n",
    "    def __generate_stack(self, size: tuple, dropout: float):\n",
    "        layers = []\n",
    "        for i in range(len(size) - 1):\n",
    "            layers.append(nn.Linear(size[i], size[i + 1]))\n",
    "            if i < len(size) - 2:\n",
    "                layers.append(nn.ReLU())\n",
    "                layers.append(nn.Dropout(dropout))\n",
    "        return nn.Sequential(*layers)\n"
   ],
   "outputs": [],
   "execution_count": 31
  },
  {
   "cell_type": "code",
   "id": "661740b4990ffe43",
   "metadata": {
    "ExecuteTime": {
     "end_time": "2025-03-27T18:18:31.772599Z",
     "start_time": "2025-03-27T18:18:31.757759Z"
    }
   },
   "source": [
    "def objective(trial):\n",
    "    hidden_units = trial.suggest_categorical('fc_layers', [\n",
    "        (12544, 10),\n",
    "        (12544, 256, 10),\n",
    "        (12544, 256, 128, 10)\n",
    "    ])\n",
    "    dropout_rate = trial.suggest_categorical('dropout_rate', [0, 0.25])\n",
    "    learning_rate = trial.suggest_categorical('learning_rate', [0.001, 0.0001, 0.01])\n",
    "    \n",
    "    model = MyModel(hidden_units, dropout_rate).to(device)\n",
    "    criterion = nn.CrossEntropyLoss()\n",
    "    optimizer = optim.Adam(model.parameters(), lr=learning_rate)\n",
    "    scaler = torch.amp.GradScaler('cuda')\n",
    "    \n",
    "    train_losses = []\n",
    "    test_losses = []\n",
    "    f1_scores = []\n",
    "    \n",
    "    for epoch in range(25):\n",
    "        model.train()\n",
    "        running_loss = 0.0\n",
    "        for images, labels in train_loader:\n",
    "            images, labels = images.to(device), labels.to(device)\n",
    "    \n",
    "            with torch.amp.autocast('cuda'):\n",
    "                outputs = model(images)\n",
    "                loss = criterion(outputs, labels)\n",
    "            \n",
    "            optimizer.zero_grad()\n",
    "            scaler.scale(loss).backward()\n",
    "            scaler.step(optimizer)\n",
    "            scaler.update()\n",
    "            running_loss += loss.item()\n",
    "        \n",
    "        avg_train_loss = running_loss / len(train_loader)\n",
    "        train_losses.append(avg_train_loss)\n",
    "        print(f\"Epoch {epoch+1}/25, Train Loss: {avg_train_loss:.4f}\")\n",
    "        \n",
    "        model.eval()\n",
    "        all_preds = []\n",
    "        all_labels = []\n",
    "        test_running_loss = 0.0\n",
    "        \n",
    "        with torch.no_grad():\n",
    "            for images, labels in test_loader:\n",
    "                images, labels = images.to(device), labels.to(device)\n",
    "                \n",
    "                with torch.amp.autocast('cuda'):\n",
    "                    outputs = model(images)\n",
    "                    loss = criterion(outputs, labels)\n",
    "                \n",
    "                test_running_loss += loss.item()\n",
    "                \n",
    "                _, predicted = torch.max(outputs, 1)\n",
    "                all_preds.extend(predicted.cpu().numpy())\n",
    "                all_labels.extend(labels.cpu().numpy())\n",
    "        \n",
    "        avg_test_loss = test_running_loss / len(test_loader)\n",
    "        test_losses.append(avg_test_loss)\n",
    "        \n",
    "        f1 = f1_score(all_labels, all_preds, average='weighted')\n",
    "        f1_scores.append(f1)\n",
    "        \n",
    "        print(f\"Test Loss: {avg_test_loss:.4f}, Test F1-Score: {f1:.4f}\")\n",
    "        \n",
    "        trial.set_user_attr(f\"train_loss_epoch_{epoch+1}\", avg_train_loss)\n",
    "        trial.set_user_attr(f\"test_loss_epoch_{epoch+1}\", avg_test_loss)\n",
    "        trial.set_user_attr(f\"f1_epoch_{epoch+1}\", f1)\n",
    "        \n",
    "    return f1\n"
   ],
   "outputs": [],
   "execution_count": 32
  },
  {
   "cell_type": "code",
   "id": "4437f69efbdee182",
   "metadata": {
    "ExecuteTime": {
     "end_time": "2025-03-28T01:05:23.234901Z",
     "start_time": "2025-03-27T18:18:31.788858Z"
    }
   },
   "source": [
    "study = optuna.create_study(direction='maximize')\n",
    "study.optimize(objective, n_trials=20)"
   ],
   "outputs": [
    {
     "name": "stderr",
     "output_type": "stream",
     "text": [
      "[I 2025-03-27 20:18:31,790] A new study created in memory with name: no-name-7a1772ee-4f57-4144-83a7-49890441019c\n",
      "C:\\Users\\PC\\PycharmProjects\\CV_Project\\.venv\\lib\\site-packages\\optuna\\distributions.py:515: UserWarning: Choices for a categorical distribution should be a tuple of None, bool, int, float and str for persistent storage but contains (12544, 10) which is of type tuple.\n",
      "  warnings.warn(message)\n",
      "C:\\Users\\PC\\PycharmProjects\\CV_Project\\.venv\\lib\\site-packages\\optuna\\distributions.py:515: UserWarning: Choices for a categorical distribution should be a tuple of None, bool, int, float and str for persistent storage but contains (12544, 256, 10) which is of type tuple.\n",
      "  warnings.warn(message)\n",
      "C:\\Users\\PC\\PycharmProjects\\CV_Project\\.venv\\lib\\site-packages\\optuna\\distributions.py:515: UserWarning: Choices for a categorical distribution should be a tuple of None, bool, int, float and str for persistent storage but contains (12544, 256, 128, 10) which is of type tuple.\n",
      "  warnings.warn(message)\n"
     ]
    },
    {
     "name": "stdout",
     "output_type": "stream",
     "text": [
      "Epoch 1/25, Train Loss: 18.3805\n",
      "Test Loss: 2.2151, Test F1-Score: 0.0574\n",
      "Epoch 2/25, Train Loss: 2.2075\n",
      "Test Loss: 2.2137, Test F1-Score: 0.0574\n",
      "Epoch 3/25, Train Loss: 2.2060\n",
      "Test Loss: 2.2139, Test F1-Score: 0.0549\n",
      "Epoch 4/25, Train Loss: 2.2066\n",
      "Test Loss: 2.2128, Test F1-Score: 0.0574\n",
      "Epoch 5/25, Train Loss: 2.2060\n",
      "Test Loss: 2.2133, Test F1-Score: 0.0549\n",
      "Epoch 6/25, Train Loss: 2.2052\n",
      "Test Loss: 2.2144, Test F1-Score: 0.0549\n",
      "Epoch 7/25, Train Loss: 2.2055\n",
      "Test Loss: 2.2129, Test F1-Score: 0.0574\n",
      "Epoch 8/25, Train Loss: 2.2059\n",
      "Test Loss: 2.2137, Test F1-Score: 0.0549\n",
      "Epoch 9/25, Train Loss: 2.2053\n",
      "Test Loss: 2.2140, Test F1-Score: 0.0549\n",
      "Epoch 10/25, Train Loss: 2.2058\n",
      "Test Loss: 2.2136, Test F1-Score: 0.0574\n",
      "Epoch 11/25, Train Loss: 2.2054\n",
      "Test Loss: 2.2136, Test F1-Score: 0.0549\n",
      "Epoch 12/25, Train Loss: 2.2057\n",
      "Test Loss: 2.2142, Test F1-Score: 0.0574\n",
      "Epoch 13/25, Train Loss: 2.2053\n",
      "Test Loss: 2.2133, Test F1-Score: 0.0574\n",
      "Epoch 14/25, Train Loss: 2.2057\n",
      "Test Loss: 2.2129, Test F1-Score: 0.0549\n",
      "Epoch 15/25, Train Loss: 2.2057\n",
      "Test Loss: 2.2133, Test F1-Score: 0.0574\n",
      "Epoch 16/25, Train Loss: 2.2053\n",
      "Test Loss: 2.2134, Test F1-Score: 0.0574\n",
      "Epoch 17/25, Train Loss: 2.2051\n",
      "Test Loss: 2.2137, Test F1-Score: 0.0574\n",
      "Epoch 18/25, Train Loss: 2.2057\n",
      "Test Loss: 2.2138, Test F1-Score: 0.0574\n",
      "Epoch 19/25, Train Loss: 2.2053\n",
      "Test Loss: 2.2147, Test F1-Score: 0.0574\n",
      "Epoch 20/25, Train Loss: 2.2050\n",
      "Test Loss: 2.2133, Test F1-Score: 0.0574\n",
      "Epoch 21/25, Train Loss: 2.2054\n",
      "Test Loss: 2.2133, Test F1-Score: 0.0549\n",
      "Epoch 22/25, Train Loss: 2.2054\n",
      "Test Loss: 2.2127, Test F1-Score: 0.0549\n",
      "Epoch 23/25, Train Loss: 2.2061\n",
      "Test Loss: 2.2136, Test F1-Score: 0.0549\n",
      "Epoch 24/25, Train Loss: 2.2054\n",
      "Test Loss: 2.2130, Test F1-Score: 0.0574\n",
      "Epoch 25/25, Train Loss: 2.2053\n"
     ]
    },
    {
     "name": "stderr",
     "output_type": "stream",
     "text": [
      "[I 2025-03-27 20:58:52,258] Trial 0 finished with value: 0.05737146539692102 and parameters: {'fc_layers': (12544, 256, 10), 'dropout_rate': 0.25, 'learning_rate': 0.01}. Best is trial 0 with value: 0.05737146539692102.\n"
     ]
    },
    {
     "name": "stdout",
     "output_type": "stream",
     "text": [
      "Test Loss: 2.2138, Test F1-Score: 0.0574\n"
     ]
    },
    {
     "name": "stderr",
     "output_type": "stream",
     "text": [
      "C:\\Users\\PC\\PycharmProjects\\CV_Project\\.venv\\lib\\site-packages\\optuna\\distributions.py:515: UserWarning: Choices for a categorical distribution should be a tuple of None, bool, int, float and str for persistent storage but contains (12544, 10) which is of type tuple.\n",
      "  warnings.warn(message)\n",
      "C:\\Users\\PC\\PycharmProjects\\CV_Project\\.venv\\lib\\site-packages\\optuna\\distributions.py:515: UserWarning: Choices for a categorical distribution should be a tuple of None, bool, int, float and str for persistent storage but contains (12544, 256, 10) which is of type tuple.\n",
      "  warnings.warn(message)\n",
      "C:\\Users\\PC\\PycharmProjects\\CV_Project\\.venv\\lib\\site-packages\\optuna\\distributions.py:515: UserWarning: Choices for a categorical distribution should be a tuple of None, bool, int, float and str for persistent storage but contains (12544, 256, 128, 10) which is of type tuple.\n",
      "  warnings.warn(message)\n"
     ]
    },
    {
     "name": "stdout",
     "output_type": "stream",
     "text": [
      "Epoch 1/25, Train Loss: 1.9916\n",
      "Test Loss: 1.7949, Test F1-Score: 0.3002\n",
      "Epoch 2/25, Train Loss: 1.6760\n",
      "Test Loss: 1.6227, Test F1-Score: 0.4085\n",
      "Epoch 3/25, Train Loss: 1.5308\n",
      "Test Loss: 1.4948, Test F1-Score: 0.4607\n",
      "Epoch 4/25, Train Loss: 1.4437\n",
      "Test Loss: 1.4251, Test F1-Score: 0.4959\n",
      "Epoch 5/25, Train Loss: 1.3654\n",
      "Test Loss: 1.3725, Test F1-Score: 0.5202\n",
      "Epoch 6/25, Train Loss: 1.2993\n",
      "Test Loss: 1.3232, Test F1-Score: 0.5269\n",
      "Epoch 7/25, Train Loss: 1.2336\n",
      "Test Loss: 1.2443, Test F1-Score: 0.5791\n",
      "Epoch 8/25, Train Loss: 1.1728\n",
      "Test Loss: 1.2260, Test F1-Score: 0.5722\n",
      "Epoch 9/25, Train Loss: 1.1178\n",
      "Test Loss: 1.1803, Test F1-Score: 0.5951\n",
      "Epoch 10/25, Train Loss: 1.0702\n",
      "Test Loss: 1.1429, Test F1-Score: 0.6129\n",
      "Epoch 11/25, Train Loss: 1.0275\n",
      "Test Loss: 1.0942, Test F1-Score: 0.6284\n",
      "Epoch 12/25, Train Loss: 0.9842\n",
      "Test Loss: 1.1020, Test F1-Score: 0.6349\n",
      "Epoch 13/25, Train Loss: 0.9559\n",
      "Test Loss: 1.1031, Test F1-Score: 0.6292\n",
      "Epoch 14/25, Train Loss: 0.9192\n",
      "Test Loss: 1.0694, Test F1-Score: 0.6434\n",
      "Epoch 15/25, Train Loss: 0.8791\n",
      "Test Loss: 1.0359, Test F1-Score: 0.6551\n",
      "Epoch 16/25, Train Loss: 0.8528\n",
      "Test Loss: 1.0267, Test F1-Score: 0.6548\n",
      "Epoch 17/25, Train Loss: 0.8245\n",
      "Test Loss: 1.0277, Test F1-Score: 0.6547\n",
      "Epoch 18/25, Train Loss: 0.7863\n",
      "Test Loss: 1.0183, Test F1-Score: 0.6613\n",
      "Epoch 19/25, Train Loss: 0.7535\n",
      "Test Loss: 1.0195, Test F1-Score: 0.6608\n",
      "Epoch 20/25, Train Loss: 0.7235\n",
      "Test Loss: 1.0215, Test F1-Score: 0.6658\n",
      "Epoch 21/25, Train Loss: 0.6951\n",
      "Test Loss: 1.0440, Test F1-Score: 0.6613\n",
      "Epoch 22/25, Train Loss: 0.6672\n",
      "Test Loss: 1.0494, Test F1-Score: 0.6742\n",
      "Epoch 23/25, Train Loss: 0.6374\n",
      "Test Loss: 1.0558, Test F1-Score: 0.6617\n",
      "Epoch 24/25, Train Loss: 0.6069\n",
      "Test Loss: 1.0225, Test F1-Score: 0.6768\n",
      "Epoch 25/25, Train Loss: 0.5697\n"
     ]
    },
    {
     "name": "stderr",
     "output_type": "stream",
     "text": [
      "[I 2025-03-27 21:39:44,831] Trial 1 finished with value: 0.6809532652443586 and parameters: {'fc_layers': (12544, 256, 10), 'dropout_rate': 0, 'learning_rate': 0.0001}. Best is trial 1 with value: 0.6809532652443586.\n"
     ]
    },
    {
     "name": "stdout",
     "output_type": "stream",
     "text": [
      "Test Loss: 1.0464, Test F1-Score: 0.6810\n"
     ]
    },
    {
     "name": "stderr",
     "output_type": "stream",
     "text": [
      "C:\\Users\\PC\\PycharmProjects\\CV_Project\\.venv\\lib\\site-packages\\optuna\\distributions.py:515: UserWarning: Choices for a categorical distribution should be a tuple of None, bool, int, float and str for persistent storage but contains (12544, 10) which is of type tuple.\n",
      "  warnings.warn(message)\n",
      "C:\\Users\\PC\\PycharmProjects\\CV_Project\\.venv\\lib\\site-packages\\optuna\\distributions.py:515: UserWarning: Choices for a categorical distribution should be a tuple of None, bool, int, float and str for persistent storage but contains (12544, 256, 10) which is of type tuple.\n",
      "  warnings.warn(message)\n",
      "C:\\Users\\PC\\PycharmProjects\\CV_Project\\.venv\\lib\\site-packages\\optuna\\distributions.py:515: UserWarning: Choices for a categorical distribution should be a tuple of None, bool, int, float and str for persistent storage but contains (12544, 256, 128, 10) which is of type tuple.\n",
      "  warnings.warn(message)\n"
     ]
    },
    {
     "name": "stdout",
     "output_type": "stream",
     "text": [
      "Epoch 1/25, Train Loss: 2.0452\n",
      "Test Loss: 1.7904, Test F1-Score: 0.3197\n",
      "Epoch 2/25, Train Loss: 1.6960\n",
      "Test Loss: 1.6688, Test F1-Score: 0.3588\n",
      "Epoch 3/25, Train Loss: 1.5672\n",
      "Test Loss: 1.5430, Test F1-Score: 0.4414\n",
      "Epoch 4/25, Train Loss: 1.4506\n",
      "Test Loss: 1.4225, Test F1-Score: 0.5004\n",
      "Epoch 5/25, Train Loss: 1.3506\n",
      "Test Loss: 1.3502, Test F1-Score: 0.5290\n",
      "Epoch 6/25, Train Loss: 1.2749\n",
      "Test Loss: 1.3340, Test F1-Score: 0.5461\n",
      "Epoch 7/25, Train Loss: 1.2011\n",
      "Test Loss: 1.2138, Test F1-Score: 0.5839\n",
      "Epoch 8/25, Train Loss: 1.1380\n",
      "Test Loss: 1.2125, Test F1-Score: 0.5863\n",
      "Epoch 9/25, Train Loss: 1.0867\n",
      "Test Loss: 1.1628, Test F1-Score: 0.6028\n",
      "Epoch 10/25, Train Loss: 1.0340\n",
      "Test Loss: 1.1471, Test F1-Score: 0.6031\n",
      "Epoch 11/25, Train Loss: 0.9926\n",
      "Test Loss: 1.0976, Test F1-Score: 0.6371\n",
      "Epoch 12/25, Train Loss: 0.9540\n",
      "Test Loss: 1.0733, Test F1-Score: 0.6375\n",
      "Epoch 13/25, Train Loss: 0.9128\n",
      "Test Loss: 1.0423, Test F1-Score: 0.6484\n",
      "Epoch 14/25, Train Loss: 0.8782\n",
      "Test Loss: 1.0498, Test F1-Score: 0.6493\n",
      "Epoch 15/25, Train Loss: 0.8472\n",
      "Test Loss: 1.0450, Test F1-Score: 0.6533\n",
      "Epoch 16/25, Train Loss: 0.8147\n",
      "Test Loss: 1.0279, Test F1-Score: 0.6574\n",
      "Epoch 17/25, Train Loss: 0.7787\n",
      "Test Loss: 1.0483, Test F1-Score: 0.6520\n",
      "Epoch 18/25, Train Loss: 0.7496\n",
      "Test Loss: 1.0052, Test F1-Score: 0.6676\n",
      "Epoch 19/25, Train Loss: 0.7151\n",
      "Test Loss: 1.0601, Test F1-Score: 0.6529\n",
      "Epoch 20/25, Train Loss: 0.6861\n",
      "Test Loss: 0.9996, Test F1-Score: 0.6691\n",
      "Epoch 21/25, Train Loss: 0.6525\n",
      "Test Loss: 0.9797, Test F1-Score: 0.6833\n",
      "Epoch 22/25, Train Loss: 0.6201\n",
      "Test Loss: 1.0281, Test F1-Score: 0.6676\n",
      "Epoch 23/25, Train Loss: 0.5952\n",
      "Test Loss: 1.0435, Test F1-Score: 0.6671\n",
      "Epoch 24/25, Train Loss: 0.5715\n",
      "Test Loss: 1.0115, Test F1-Score: 0.6750\n",
      "Epoch 25/25, Train Loss: 0.5387\n"
     ]
    },
    {
     "name": "stderr",
     "output_type": "stream",
     "text": [
      "[I 2025-03-27 22:03:02,770] Trial 2 finished with value: 0.6748583373254405 and parameters: {'fc_layers': (12544, 256, 10), 'dropout_rate': 0, 'learning_rate': 0.0001}. Best is trial 1 with value: 0.6809532652443586.\n"
     ]
    },
    {
     "name": "stdout",
     "output_type": "stream",
     "text": [
      "Test Loss: 1.0305, Test F1-Score: 0.6749\n"
     ]
    },
    {
     "name": "stderr",
     "output_type": "stream",
     "text": [
      "C:\\Users\\PC\\PycharmProjects\\CV_Project\\.venv\\lib\\site-packages\\optuna\\distributions.py:515: UserWarning: Choices for a categorical distribution should be a tuple of None, bool, int, float and str for persistent storage but contains (12544, 10) which is of type tuple.\n",
      "  warnings.warn(message)\n",
      "C:\\Users\\PC\\PycharmProjects\\CV_Project\\.venv\\lib\\site-packages\\optuna\\distributions.py:515: UserWarning: Choices for a categorical distribution should be a tuple of None, bool, int, float and str for persistent storage but contains (12544, 256, 10) which is of type tuple.\n",
      "  warnings.warn(message)\n",
      "C:\\Users\\PC\\PycharmProjects\\CV_Project\\.venv\\lib\\site-packages\\optuna\\distributions.py:515: UserWarning: Choices for a categorical distribution should be a tuple of None, bool, int, float and str for persistent storage but contains (12544, 256, 128, 10) which is of type tuple.\n",
      "  warnings.warn(message)\n"
     ]
    },
    {
     "name": "stdout",
     "output_type": "stream",
     "text": [
      "Epoch 1/25, Train Loss: 1.8097\n",
      "Test Loss: 1.4930, Test F1-Score: 0.4739\n",
      "Epoch 2/25, Train Loss: 1.3493\n",
      "Test Loss: 1.2266, Test F1-Score: 0.5779\n",
      "Epoch 3/25, Train Loss: 1.1200\n",
      "Test Loss: 1.0910, Test F1-Score: 0.6235\n",
      "Epoch 4/25, Train Loss: 0.9843\n",
      "Test Loss: 1.0162, Test F1-Score: 0.6642\n",
      "Epoch 5/25, Train Loss: 0.8795\n",
      "Test Loss: 0.9584, Test F1-Score: 0.6786\n",
      "Epoch 6/25, Train Loss: 0.7876\n",
      "Test Loss: 0.8804, Test F1-Score: 0.7068\n",
      "Epoch 7/25, Train Loss: 0.6947\n",
      "Test Loss: 0.8818, Test F1-Score: 0.7079\n",
      "Epoch 8/25, Train Loss: 0.6140\n",
      "Test Loss: 0.9240, Test F1-Score: 0.7069\n",
      "Epoch 9/25, Train Loss: 0.5535\n",
      "Test Loss: 0.8565, Test F1-Score: 0.7313\n",
      "Epoch 10/25, Train Loss: 0.4679\n",
      "Test Loss: 0.8536, Test F1-Score: 0.7440\n",
      "Epoch 11/25, Train Loss: 0.4192\n",
      "Test Loss: 0.9654, Test F1-Score: 0.7132\n",
      "Epoch 12/25, Train Loss: 0.3590\n",
      "Test Loss: 0.8684, Test F1-Score: 0.7471\n",
      "Epoch 13/25, Train Loss: 0.3130\n",
      "Test Loss: 0.9149, Test F1-Score: 0.7324\n",
      "Epoch 14/25, Train Loss: 0.2694\n",
      "Test Loss: 0.9106, Test F1-Score: 0.7540\n",
      "Epoch 15/25, Train Loss: 0.2301\n",
      "Test Loss: 1.0997, Test F1-Score: 0.7294\n",
      "Epoch 16/25, Train Loss: 0.1891\n",
      "Test Loss: 1.2014, Test F1-Score: 0.7370\n",
      "Epoch 17/25, Train Loss: 0.1726\n",
      "Test Loss: 1.1619, Test F1-Score: 0.7385\n",
      "Epoch 18/25, Train Loss: 0.1531\n",
      "Test Loss: 1.1977, Test F1-Score: 0.7486\n",
      "Epoch 19/25, Train Loss: 0.1509\n",
      "Test Loss: 1.1686, Test F1-Score: 0.7482\n",
      "Epoch 20/25, Train Loss: 0.1321\n",
      "Test Loss: 1.3594, Test F1-Score: 0.7256\n",
      "Epoch 21/25, Train Loss: 0.1184\n",
      "Test Loss: 1.4137, Test F1-Score: 0.7312\n",
      "Epoch 22/25, Train Loss: 0.1089\n",
      "Test Loss: 1.4027, Test F1-Score: 0.7463\n",
      "Epoch 23/25, Train Loss: 0.1221\n",
      "Test Loss: 1.4300, Test F1-Score: 0.7343\n",
      "Epoch 24/25, Train Loss: 0.1019\n",
      "Test Loss: 1.5432, Test F1-Score: 0.7407\n",
      "Epoch 25/25, Train Loss: 0.1032\n"
     ]
    },
    {
     "name": "stderr",
     "output_type": "stream",
     "text": [
      "[I 2025-03-27 22:20:48,508] Trial 3 finished with value: 0.7466657161916486 and parameters: {'fc_layers': (12544, 10), 'dropout_rate': 0, 'learning_rate': 0.001}. Best is trial 3 with value: 0.7466657161916486.\n"
     ]
    },
    {
     "name": "stdout",
     "output_type": "stream",
     "text": [
      "Test Loss: 1.5692, Test F1-Score: 0.7467\n"
     ]
    },
    {
     "name": "stderr",
     "output_type": "stream",
     "text": [
      "C:\\Users\\PC\\PycharmProjects\\CV_Project\\.venv\\lib\\site-packages\\optuna\\distributions.py:515: UserWarning: Choices for a categorical distribution should be a tuple of None, bool, int, float and str for persistent storage but contains (12544, 10) which is of type tuple.\n",
      "  warnings.warn(message)\n",
      "C:\\Users\\PC\\PycharmProjects\\CV_Project\\.venv\\lib\\site-packages\\optuna\\distributions.py:515: UserWarning: Choices for a categorical distribution should be a tuple of None, bool, int, float and str for persistent storage but contains (12544, 256, 10) which is of type tuple.\n",
      "  warnings.warn(message)\n",
      "C:\\Users\\PC\\PycharmProjects\\CV_Project\\.venv\\lib\\site-packages\\optuna\\distributions.py:515: UserWarning: Choices for a categorical distribution should be a tuple of None, bool, int, float and str for persistent storage but contains (12544, 256, 128, 10) which is of type tuple.\n",
      "  warnings.warn(message)\n"
     ]
    },
    {
     "name": "stdout",
     "output_type": "stream",
     "text": [
      "Epoch 1/25, Train Loss: 8.6603\n",
      "Test Loss: 2.2160, Test F1-Score: 0.0574\n",
      "Epoch 2/25, Train Loss: 2.2077\n",
      "Test Loss: 2.2137, Test F1-Score: 0.0549\n",
      "Epoch 3/25, Train Loss: 2.2074\n",
      "Test Loss: 2.2161, Test F1-Score: 0.0549\n",
      "Epoch 4/25, Train Loss: 2.2067\n",
      "Test Loss: 2.2151, Test F1-Score: 0.0549\n",
      "Epoch 5/25, Train Loss: 2.2063\n",
      "Test Loss: 2.2133, Test F1-Score: 0.0549\n",
      "Epoch 6/25, Train Loss: 2.2061\n",
      "Test Loss: 2.2130, Test F1-Score: 0.0574\n",
      "Epoch 7/25, Train Loss: 2.2064\n",
      "Test Loss: 2.2132, Test F1-Score: 0.0574\n",
      "Epoch 8/25, Train Loss: 2.2066\n",
      "Test Loss: 2.2143, Test F1-Score: 0.0549\n",
      "Epoch 9/25, Train Loss: 2.2057\n",
      "Test Loss: 2.2129, Test F1-Score: 0.0574\n",
      "Epoch 10/25, Train Loss: 2.2054\n",
      "Test Loss: 2.2139, Test F1-Score: 0.0574\n",
      "Epoch 11/25, Train Loss: 2.2059\n",
      "Test Loss: 2.2136, Test F1-Score: 0.0549\n",
      "Epoch 12/25, Train Loss: 2.2055\n",
      "Test Loss: 2.2130, Test F1-Score: 0.0574\n",
      "Epoch 13/25, Train Loss: 2.2056\n",
      "Test Loss: 2.2130, Test F1-Score: 0.0574\n",
      "Epoch 14/25, Train Loss: 2.2051\n",
      "Test Loss: 2.2129, Test F1-Score: 0.0574\n",
      "Epoch 15/25, Train Loss: 2.2056\n",
      "Test Loss: 2.2144, Test F1-Score: 0.0549\n",
      "Epoch 16/25, Train Loss: 2.2051\n",
      "Test Loss: 2.2144, Test F1-Score: 0.0574\n",
      "Epoch 17/25, Train Loss: 2.2057\n",
      "Test Loss: 2.2134, Test F1-Score: 0.0574\n",
      "Epoch 18/25, Train Loss: 2.2056\n",
      "Test Loss: 2.2138, Test F1-Score: 0.0574\n",
      "Epoch 19/25, Train Loss: 2.2057\n",
      "Test Loss: 2.2138, Test F1-Score: 0.0549\n",
      "Epoch 20/25, Train Loss: 2.2058\n",
      "Test Loss: 2.2137, Test F1-Score: 0.0574\n",
      "Epoch 21/25, Train Loss: 2.2054\n",
      "Test Loss: 2.2139, Test F1-Score: 0.0549\n",
      "Epoch 22/25, Train Loss: 2.2053\n",
      "Test Loss: 2.2130, Test F1-Score: 0.0574\n",
      "Epoch 23/25, Train Loss: 2.2057\n",
      "Test Loss: 2.2135, Test F1-Score: 0.0549\n",
      "Epoch 24/25, Train Loss: 2.2057\n",
      "Test Loss: 2.2129, Test F1-Score: 0.0574\n",
      "Epoch 25/25, Train Loss: 2.2053\n"
     ]
    },
    {
     "name": "stderr",
     "output_type": "stream",
     "text": [
      "[I 2025-03-27 22:38:38,719] Trial 4 finished with value: 0.05737146539692102 and parameters: {'fc_layers': (12544, 256, 10), 'dropout_rate': 0, 'learning_rate': 0.01}. Best is trial 3 with value: 0.7466657161916486.\n"
     ]
    },
    {
     "name": "stdout",
     "output_type": "stream",
     "text": [
      "Test Loss: 2.2133, Test F1-Score: 0.0574\n"
     ]
    },
    {
     "name": "stderr",
     "output_type": "stream",
     "text": [
      "C:\\Users\\PC\\PycharmProjects\\CV_Project\\.venv\\lib\\site-packages\\optuna\\distributions.py:515: UserWarning: Choices for a categorical distribution should be a tuple of None, bool, int, float and str for persistent storage but contains (12544, 10) which is of type tuple.\n",
      "  warnings.warn(message)\n",
      "C:\\Users\\PC\\PycharmProjects\\CV_Project\\.venv\\lib\\site-packages\\optuna\\distributions.py:515: UserWarning: Choices for a categorical distribution should be a tuple of None, bool, int, float and str for persistent storage but contains (12544, 256, 10) which is of type tuple.\n",
      "  warnings.warn(message)\n",
      "C:\\Users\\PC\\PycharmProjects\\CV_Project\\.venv\\lib\\site-packages\\optuna\\distributions.py:515: UserWarning: Choices for a categorical distribution should be a tuple of None, bool, int, float and str for persistent storage but contains (12544, 256, 128, 10) which is of type tuple.\n",
      "  warnings.warn(message)\n"
     ]
    },
    {
     "name": "stdout",
     "output_type": "stream",
     "text": [
      "Epoch 1/25, Train Loss: 3.6132\n",
      "Test Loss: 1.9604, Test F1-Score: 0.2387\n",
      "Epoch 2/25, Train Loss: 1.8713\n",
      "Test Loss: 1.8432, Test F1-Score: 0.3122\n",
      "Epoch 3/25, Train Loss: 1.7051\n",
      "Test Loss: 1.6948, Test F1-Score: 0.3839\n",
      "Epoch 4/25, Train Loss: 1.6136\n",
      "Test Loss: 1.6158, Test F1-Score: 0.3737\n",
      "Epoch 5/25, Train Loss: 1.5369\n",
      "Test Loss: 1.5687, Test F1-Score: 0.4371\n",
      "Epoch 6/25, Train Loss: 1.4927\n",
      "Test Loss: 1.5604, Test F1-Score: 0.4460\n",
      "Epoch 7/25, Train Loss: 1.4572\n",
      "Test Loss: 1.4370, Test F1-Score: 0.4924\n",
      "Epoch 8/25, Train Loss: 1.4600\n",
      "Test Loss: 1.5100, Test F1-Score: 0.4745\n",
      "Epoch 9/25, Train Loss: 1.4334\n",
      "Test Loss: 1.4693, Test F1-Score: 0.4798\n",
      "Epoch 10/25, Train Loss: 1.4222\n",
      "Test Loss: 1.5175, Test F1-Score: 0.4785\n",
      "Epoch 11/25, Train Loss: 1.4091\n",
      "Test Loss: 1.4275, Test F1-Score: 0.4949\n",
      "Epoch 12/25, Train Loss: 1.3911\n",
      "Test Loss: 1.4913, Test F1-Score: 0.4717\n",
      "Epoch 13/25, Train Loss: 1.3968\n",
      "Test Loss: 1.4163, Test F1-Score: 0.5130\n",
      "Epoch 14/25, Train Loss: 1.3704\n",
      "Test Loss: 1.4110, Test F1-Score: 0.5001\n",
      "Epoch 15/25, Train Loss: 1.3902\n",
      "Test Loss: 1.4546, Test F1-Score: 0.4897\n",
      "Epoch 16/25, Train Loss: 1.3797\n",
      "Test Loss: 1.4323, Test F1-Score: 0.5005\n",
      "Epoch 17/25, Train Loss: 1.3722\n",
      "Test Loss: 1.3735, Test F1-Score: 0.5230\n",
      "Epoch 18/25, Train Loss: 1.3771\n",
      "Test Loss: 1.4682, Test F1-Score: 0.4858\n",
      "Epoch 19/25, Train Loss: 1.3577\n",
      "Test Loss: 1.5381, Test F1-Score: 0.4801\n",
      "Epoch 20/25, Train Loss: 1.3763\n",
      "Test Loss: 1.4336, Test F1-Score: 0.5005\n",
      "Epoch 21/25, Train Loss: 1.3611\n",
      "Test Loss: 1.4072, Test F1-Score: 0.5205\n",
      "Epoch 22/25, Train Loss: 1.3671\n",
      "Test Loss: 1.3758, Test F1-Score: 0.5161\n",
      "Epoch 23/25, Train Loss: 1.3557\n",
      "Test Loss: 1.3988, Test F1-Score: 0.5035\n",
      "Epoch 24/25, Train Loss: 1.3685\n",
      "Test Loss: 1.3836, Test F1-Score: 0.5008\n",
      "Epoch 25/25, Train Loss: 1.3503\n"
     ]
    },
    {
     "name": "stderr",
     "output_type": "stream",
     "text": [
      "[I 2025-03-27 22:56:17,512] Trial 5 finished with value: 0.5132474586783236 and parameters: {'fc_layers': (12544, 10), 'dropout_rate': 0, 'learning_rate': 0.01}. Best is trial 3 with value: 0.7466657161916486.\n"
     ]
    },
    {
     "name": "stdout",
     "output_type": "stream",
     "text": [
      "Test Loss: 1.3711, Test F1-Score: 0.5132\n"
     ]
    },
    {
     "name": "stderr",
     "output_type": "stream",
     "text": [
      "C:\\Users\\PC\\PycharmProjects\\CV_Project\\.venv\\lib\\site-packages\\optuna\\distributions.py:515: UserWarning: Choices for a categorical distribution should be a tuple of None, bool, int, float and str for persistent storage but contains (12544, 10) which is of type tuple.\n",
      "  warnings.warn(message)\n",
      "C:\\Users\\PC\\PycharmProjects\\CV_Project\\.venv\\lib\\site-packages\\optuna\\distributions.py:515: UserWarning: Choices for a categorical distribution should be a tuple of None, bool, int, float and str for persistent storage but contains (12544, 256, 10) which is of type tuple.\n",
      "  warnings.warn(message)\n",
      "C:\\Users\\PC\\PycharmProjects\\CV_Project\\.venv\\lib\\site-packages\\optuna\\distributions.py:515: UserWarning: Choices for a categorical distribution should be a tuple of None, bool, int, float and str for persistent storage but contains (12544, 256, 128, 10) which is of type tuple.\n",
      "  warnings.warn(message)\n"
     ]
    },
    {
     "name": "stdout",
     "output_type": "stream",
     "text": [
      "Epoch 1/25, Train Loss: 2.0909\n",
      "Test Loss: 1.9231, Test F1-Score: 0.2350\n",
      "Epoch 2/25, Train Loss: 1.6943\n",
      "Test Loss: 1.5575, Test F1-Score: 0.4388\n",
      "Epoch 3/25, Train Loss: 1.4932\n",
      "Test Loss: 1.3740, Test F1-Score: 0.5074\n",
      "Epoch 4/25, Train Loss: 1.3522\n",
      "Test Loss: 1.3228, Test F1-Score: 0.5271\n",
      "Epoch 5/25, Train Loss: 1.2532\n",
      "Test Loss: 1.2271, Test F1-Score: 0.5644\n",
      "Epoch 6/25, Train Loss: 1.1700\n",
      "Test Loss: 1.1638, Test F1-Score: 0.5927\n",
      "Epoch 7/25, Train Loss: 1.0892\n",
      "Test Loss: 1.0856, Test F1-Score: 0.6190\n",
      "Epoch 8/25, Train Loss: 1.0174\n",
      "Test Loss: 1.0354, Test F1-Score: 0.6330\n",
      "Epoch 9/25, Train Loss: 0.9607\n",
      "Test Loss: 0.9886, Test F1-Score: 0.6643\n",
      "Epoch 10/25, Train Loss: 0.9095\n",
      "Test Loss: 0.9493, Test F1-Score: 0.6725\n",
      "Epoch 11/25, Train Loss: 0.8503\n",
      "Test Loss: 0.8777, Test F1-Score: 0.7027\n",
      "Epoch 12/25, Train Loss: 0.8035\n",
      "Test Loss: 0.8877, Test F1-Score: 0.6974\n",
      "Epoch 13/25, Train Loss: 0.7573\n",
      "Test Loss: 0.9061, Test F1-Score: 0.6883\n",
      "Epoch 14/25, Train Loss: 0.7168\n",
      "Test Loss: 0.9095, Test F1-Score: 0.7042\n",
      "Epoch 15/25, Train Loss: 0.6863\n",
      "Test Loss: 0.8341, Test F1-Score: 0.7265\n",
      "Epoch 16/25, Train Loss: 0.6612\n",
      "Test Loss: 0.8250, Test F1-Score: 0.7275\n",
      "Epoch 17/25, Train Loss: 0.6193\n",
      "Test Loss: 0.9003, Test F1-Score: 0.7117\n",
      "Epoch 18/25, Train Loss: 0.6012\n",
      "Test Loss: 0.8648, Test F1-Score: 0.7177\n",
      "Epoch 19/25, Train Loss: 0.5734\n",
      "Test Loss: 0.8431, Test F1-Score: 0.7292\n",
      "Epoch 20/25, Train Loss: 0.5550\n",
      "Test Loss: 0.8715, Test F1-Score: 0.7304\n",
      "Epoch 21/25, Train Loss: 0.5242\n",
      "Test Loss: 0.8770, Test F1-Score: 0.7346\n",
      "Epoch 22/25, Train Loss: 0.5283\n",
      "Test Loss: 0.8511, Test F1-Score: 0.7300\n",
      "Epoch 23/25, Train Loss: 0.4944\n",
      "Test Loss: 0.8344, Test F1-Score: 0.7425\n",
      "Epoch 24/25, Train Loss: 0.4800\n",
      "Test Loss: 0.8339, Test F1-Score: 0.7531\n",
      "Epoch 25/25, Train Loss: 0.4536\n"
     ]
    },
    {
     "name": "stderr",
     "output_type": "stream",
     "text": [
      "[I 2025-03-27 23:14:10,477] Trial 6 finished with value: 0.7320709926931626 and parameters: {'fc_layers': (12544, 256, 128, 10), 'dropout_rate': 0.25, 'learning_rate': 0.001}. Best is trial 3 with value: 0.7466657161916486.\n"
     ]
    },
    {
     "name": "stdout",
     "output_type": "stream",
     "text": [
      "Test Loss: 0.8876, Test F1-Score: 0.7321\n"
     ]
    },
    {
     "name": "stderr",
     "output_type": "stream",
     "text": [
      "C:\\Users\\PC\\PycharmProjects\\CV_Project\\.venv\\lib\\site-packages\\optuna\\distributions.py:515: UserWarning: Choices for a categorical distribution should be a tuple of None, bool, int, float and str for persistent storage but contains (12544, 10) which is of type tuple.\n",
      "  warnings.warn(message)\n",
      "C:\\Users\\PC\\PycharmProjects\\CV_Project\\.venv\\lib\\site-packages\\optuna\\distributions.py:515: UserWarning: Choices for a categorical distribution should be a tuple of None, bool, int, float and str for persistent storage but contains (12544, 256, 10) which is of type tuple.\n",
      "  warnings.warn(message)\n",
      "C:\\Users\\PC\\PycharmProjects\\CV_Project\\.venv\\lib\\site-packages\\optuna\\distributions.py:515: UserWarning: Choices for a categorical distribution should be a tuple of None, bool, int, float and str for persistent storage but contains (12544, 256, 128, 10) which is of type tuple.\n",
      "  warnings.warn(message)\n"
     ]
    },
    {
     "name": "stdout",
     "output_type": "stream",
     "text": [
      "Epoch 1/25, Train Loss: 2.0511\n",
      "Test Loss: 1.8197, Test F1-Score: 0.3046\n",
      "Epoch 2/25, Train Loss: 1.6623\n",
      "Test Loss: 1.4847, Test F1-Score: 0.4772\n",
      "Epoch 3/25, Train Loss: 1.3960\n",
      "Test Loss: 1.3116, Test F1-Score: 0.5555\n",
      "Epoch 4/25, Train Loss: 1.2249\n",
      "Test Loss: 1.1907, Test F1-Score: 0.5970\n",
      "Epoch 5/25, Train Loss: 1.1209\n",
      "Test Loss: 1.0822, Test F1-Score: 0.6256\n",
      "Epoch 6/25, Train Loss: 1.0233\n",
      "Test Loss: 1.0339, Test F1-Score: 0.6382\n",
      "Epoch 7/25, Train Loss: 0.9545\n",
      "Test Loss: 0.9843, Test F1-Score: 0.6685\n",
      "Epoch 8/25, Train Loss: 0.8721\n",
      "Test Loss: 0.9059, Test F1-Score: 0.6930\n",
      "Epoch 9/25, Train Loss: 0.8235\n",
      "Test Loss: 0.9278, Test F1-Score: 0.6915\n",
      "Epoch 10/25, Train Loss: 0.7549\n",
      "Test Loss: 0.8935, Test F1-Score: 0.6963\n",
      "Epoch 11/25, Train Loss: 0.7061\n",
      "Test Loss: 0.9123, Test F1-Score: 0.7031\n",
      "Epoch 12/25, Train Loss: 0.6618\n",
      "Test Loss: 0.8895, Test F1-Score: 0.7162\n",
      "Epoch 13/25, Train Loss: 0.6262\n",
      "Test Loss: 0.8639, Test F1-Score: 0.7110\n",
      "Epoch 14/25, Train Loss: 0.5757\n",
      "Test Loss: 0.9244, Test F1-Score: 0.7266\n",
      "Epoch 15/25, Train Loss: 0.5513\n",
      "Test Loss: 0.9261, Test F1-Score: 0.7152\n",
      "Epoch 16/25, Train Loss: 0.5133\n",
      "Test Loss: 0.8145, Test F1-Score: 0.7408\n",
      "Epoch 17/25, Train Loss: 0.4960\n",
      "Test Loss: 0.8702, Test F1-Score: 0.7424\n",
      "Epoch 18/25, Train Loss: 0.4755\n",
      "Test Loss: 0.8531, Test F1-Score: 0.7416\n",
      "Epoch 19/25, Train Loss: 0.4379\n",
      "Test Loss: 0.9049, Test F1-Score: 0.7361\n",
      "Epoch 20/25, Train Loss: 0.4276\n",
      "Test Loss: 0.8903, Test F1-Score: 0.7383\n",
      "Epoch 21/25, Train Loss: 0.4011\n",
      "Test Loss: 0.9421, Test F1-Score: 0.7379\n",
      "Epoch 22/25, Train Loss: 0.3850\n",
      "Test Loss: 0.9047, Test F1-Score: 0.7329\n",
      "Epoch 23/25, Train Loss: 0.3706\n",
      "Test Loss: 0.9324, Test F1-Score: 0.7355\n",
      "Epoch 24/25, Train Loss: 0.3590\n",
      "Test Loss: 0.8914, Test F1-Score: 0.7544\n",
      "Epoch 25/25, Train Loss: 0.3475\n"
     ]
    },
    {
     "name": "stderr",
     "output_type": "stream",
     "text": [
      "[I 2025-03-27 23:32:03,293] Trial 7 finished with value: 0.7551959275180048 and parameters: {'fc_layers': (12544, 256, 10), 'dropout_rate': 0.25, 'learning_rate': 0.001}. Best is trial 7 with value: 0.7551959275180048.\n"
     ]
    },
    {
     "name": "stdout",
     "output_type": "stream",
     "text": [
      "Test Loss: 0.9032, Test F1-Score: 0.7552\n"
     ]
    },
    {
     "name": "stderr",
     "output_type": "stream",
     "text": [
      "C:\\Users\\PC\\PycharmProjects\\CV_Project\\.venv\\lib\\site-packages\\optuna\\distributions.py:515: UserWarning: Choices for a categorical distribution should be a tuple of None, bool, int, float and str for persistent storage but contains (12544, 10) which is of type tuple.\n",
      "  warnings.warn(message)\n",
      "C:\\Users\\PC\\PycharmProjects\\CV_Project\\.venv\\lib\\site-packages\\optuna\\distributions.py:515: UserWarning: Choices for a categorical distribution should be a tuple of None, bool, int, float and str for persistent storage but contains (12544, 256, 10) which is of type tuple.\n",
      "  warnings.warn(message)\n",
      "C:\\Users\\PC\\PycharmProjects\\CV_Project\\.venv\\lib\\site-packages\\optuna\\distributions.py:515: UserWarning: Choices for a categorical distribution should be a tuple of None, bool, int, float and str for persistent storage but contains (12544, 256, 128, 10) which is of type tuple.\n",
      "  warnings.warn(message)\n"
     ]
    },
    {
     "name": "stdout",
     "output_type": "stream",
     "text": [
      "Epoch 1/25, Train Loss: 1.8123\n",
      "Test Loss: 1.5103, Test F1-Score: 0.4615\n",
      "Epoch 2/25, Train Loss: 1.3464\n",
      "Test Loss: 1.2481, Test F1-Score: 0.5655\n",
      "Epoch 3/25, Train Loss: 1.1456\n",
      "Test Loss: 1.1844, Test F1-Score: 0.6023\n",
      "Epoch 4/25, Train Loss: 0.9914\n",
      "Test Loss: 0.9967, Test F1-Score: 0.6678\n",
      "Epoch 5/25, Train Loss: 0.8655\n",
      "Test Loss: 0.9065, Test F1-Score: 0.6981\n",
      "Epoch 6/25, Train Loss: 0.7658\n",
      "Test Loss: 0.8614, Test F1-Score: 0.7223\n",
      "Epoch 7/25, Train Loss: 0.6614\n",
      "Test Loss: 0.8199, Test F1-Score: 0.7275\n",
      "Epoch 8/25, Train Loss: 0.5819\n",
      "Test Loss: 0.8163, Test F1-Score: 0.7369\n",
      "Epoch 9/25, Train Loss: 0.5036\n",
      "Test Loss: 0.8198, Test F1-Score: 0.7440\n",
      "Epoch 10/25, Train Loss: 0.4372\n",
      "Test Loss: 0.9108, Test F1-Score: 0.7331\n",
      "Epoch 11/25, Train Loss: 0.3769\n",
      "Test Loss: 0.8849, Test F1-Score: 0.7402\n",
      "Epoch 12/25, Train Loss: 0.3164\n",
      "Test Loss: 0.9055, Test F1-Score: 0.7430\n",
      "Epoch 13/25, Train Loss: 0.2760\n",
      "Test Loss: 0.9945, Test F1-Score: 0.7363\n",
      "Epoch 14/25, Train Loss: 0.2367\n",
      "Test Loss: 1.0241, Test F1-Score: 0.7339\n",
      "Epoch 15/25, Train Loss: 0.1984\n",
      "Test Loss: 1.0453, Test F1-Score: 0.7486\n",
      "Epoch 16/25, Train Loss: 0.1763\n",
      "Test Loss: 1.1892, Test F1-Score: 0.7517\n",
      "Epoch 17/25, Train Loss: 0.1600\n",
      "Test Loss: 1.4211, Test F1-Score: 0.7297\n",
      "Epoch 18/25, Train Loss: 0.1351\n",
      "Test Loss: 1.2773, Test F1-Score: 0.7432\n",
      "Epoch 19/25, Train Loss: 0.1273\n",
      "Test Loss: 1.4463, Test F1-Score: 0.7464\n",
      "Epoch 20/25, Train Loss: 0.1234\n",
      "Test Loss: 1.3996, Test F1-Score: 0.7233\n",
      "Epoch 21/25, Train Loss: 0.1193\n",
      "Test Loss: 1.3034, Test F1-Score: 0.7390\n",
      "Epoch 22/25, Train Loss: 0.0853\n",
      "Test Loss: 1.4211, Test F1-Score: 0.7535\n",
      "Epoch 23/25, Train Loss: 0.0784\n",
      "Test Loss: 1.5521, Test F1-Score: 0.7370\n",
      "Epoch 24/25, Train Loss: 0.0940\n",
      "Test Loss: 1.6065, Test F1-Score: 0.7401\n",
      "Epoch 25/25, Train Loss: 0.1028\n"
     ]
    },
    {
     "name": "stderr",
     "output_type": "stream",
     "text": [
      "[I 2025-03-27 23:49:44,269] Trial 8 finished with value: 0.7476392986279443 and parameters: {'fc_layers': (12544, 10), 'dropout_rate': 0, 'learning_rate': 0.001}. Best is trial 7 with value: 0.7551959275180048.\n"
     ]
    },
    {
     "name": "stdout",
     "output_type": "stream",
     "text": [
      "Test Loss: 1.5345, Test F1-Score: 0.7476\n"
     ]
    },
    {
     "name": "stderr",
     "output_type": "stream",
     "text": [
      "C:\\Users\\PC\\PycharmProjects\\CV_Project\\.venv\\lib\\site-packages\\optuna\\distributions.py:515: UserWarning: Choices for a categorical distribution should be a tuple of None, bool, int, float and str for persistent storage but contains (12544, 10) which is of type tuple.\n",
      "  warnings.warn(message)\n",
      "C:\\Users\\PC\\PycharmProjects\\CV_Project\\.venv\\lib\\site-packages\\optuna\\distributions.py:515: UserWarning: Choices for a categorical distribution should be a tuple of None, bool, int, float and str for persistent storage but contains (12544, 256, 10) which is of type tuple.\n",
      "  warnings.warn(message)\n",
      "C:\\Users\\PC\\PycharmProjects\\CV_Project\\.venv\\lib\\site-packages\\optuna\\distributions.py:515: UserWarning: Choices for a categorical distribution should be a tuple of None, bool, int, float and str for persistent storage but contains (12544, 256, 128, 10) which is of type tuple.\n",
      "  warnings.warn(message)\n"
     ]
    },
    {
     "name": "stdout",
     "output_type": "stream",
     "text": [
      "Epoch 1/25, Train Loss: 2.1654\n",
      "Test Loss: 2.1003, Test F1-Score: 0.2197\n",
      "Epoch 2/25, Train Loss: 1.9798\n",
      "Test Loss: 1.9206, Test F1-Score: 0.2567\n",
      "Epoch 3/25, Train Loss: 1.8647\n",
      "Test Loss: 1.8294, Test F1-Score: 0.3154\n",
      "Epoch 4/25, Train Loss: 1.7663\n",
      "Test Loss: 1.7712, Test F1-Score: 0.3247\n",
      "Epoch 5/25, Train Loss: 1.6924\n",
      "Test Loss: 1.6699, Test F1-Score: 0.3943\n",
      "Epoch 6/25, Train Loss: 1.6277\n",
      "Test Loss: 1.6247, Test F1-Score: 0.4127\n",
      "Epoch 7/25, Train Loss: 1.5537\n",
      "Test Loss: 1.5433, Test F1-Score: 0.4707\n",
      "Epoch 8/25, Train Loss: 1.4934\n",
      "Test Loss: 1.4834, Test F1-Score: 0.4701\n",
      "Epoch 9/25, Train Loss: 1.4397\n",
      "Test Loss: 1.4053, Test F1-Score: 0.5161\n",
      "Epoch 10/25, Train Loss: 1.3871\n",
      "Test Loss: 1.3822, Test F1-Score: 0.5307\n",
      "Epoch 11/25, Train Loss: 1.3370\n",
      "Test Loss: 1.3570, Test F1-Score: 0.5240\n",
      "Epoch 12/25, Train Loss: 1.2932\n",
      "Test Loss: 1.2993, Test F1-Score: 0.5584\n",
      "Epoch 13/25, Train Loss: 1.2597\n",
      "Test Loss: 1.2981, Test F1-Score: 0.5468\n",
      "Epoch 14/25, Train Loss: 1.2163\n",
      "Test Loss: 1.2368, Test F1-Score: 0.5717\n",
      "Epoch 15/25, Train Loss: 1.1767\n",
      "Test Loss: 1.2192, Test F1-Score: 0.5795\n",
      "Epoch 16/25, Train Loss: 1.1360\n",
      "Test Loss: 1.1915, Test F1-Score: 0.5861\n",
      "Epoch 17/25, Train Loss: 1.1172\n",
      "Test Loss: 1.1849, Test F1-Score: 0.5927\n",
      "Epoch 18/25, Train Loss: 1.0664\n",
      "Test Loss: 1.2047, Test F1-Score: 0.5860\n",
      "Epoch 19/25, Train Loss: 1.0432\n",
      "Test Loss: 1.1370, Test F1-Score: 0.6077\n",
      "Epoch 20/25, Train Loss: 1.0163\n",
      "Test Loss: 1.1425, Test F1-Score: 0.6122\n",
      "Epoch 21/25, Train Loss: 0.9816\n",
      "Test Loss: 1.1229, Test F1-Score: 0.6158\n",
      "Epoch 22/25, Train Loss: 0.9509\n",
      "Test Loss: 1.1028, Test F1-Score: 0.6209\n",
      "Epoch 23/25, Train Loss: 0.9199\n",
      "Test Loss: 1.1082, Test F1-Score: 0.6199\n",
      "Epoch 24/25, Train Loss: 0.8948\n",
      "Test Loss: 1.0825, Test F1-Score: 0.6241\n",
      "Epoch 25/25, Train Loss: 0.8751\n"
     ]
    },
    {
     "name": "stderr",
     "output_type": "stream",
     "text": [
      "[I 2025-03-28 00:07:37,608] Trial 9 finished with value: 0.6234735032755965 and parameters: {'fc_layers': (12544, 256, 128, 10), 'dropout_rate': 0.25, 'learning_rate': 0.0001}. Best is trial 7 with value: 0.7551959275180048.\n"
     ]
    },
    {
     "name": "stdout",
     "output_type": "stream",
     "text": [
      "Test Loss: 1.0863, Test F1-Score: 0.6235\n"
     ]
    },
    {
     "name": "stderr",
     "output_type": "stream",
     "text": [
      "C:\\Users\\PC\\PycharmProjects\\CV_Project\\.venv\\lib\\site-packages\\optuna\\distributions.py:515: UserWarning: Choices for a categorical distribution should be a tuple of None, bool, int, float and str for persistent storage but contains (12544, 10) which is of type tuple.\n",
      "  warnings.warn(message)\n",
      "C:\\Users\\PC\\PycharmProjects\\CV_Project\\.venv\\lib\\site-packages\\optuna\\distributions.py:515: UserWarning: Choices for a categorical distribution should be a tuple of None, bool, int, float and str for persistent storage but contains (12544, 256, 10) which is of type tuple.\n",
      "  warnings.warn(message)\n",
      "C:\\Users\\PC\\PycharmProjects\\CV_Project\\.venv\\lib\\site-packages\\optuna\\distributions.py:515: UserWarning: Choices for a categorical distribution should be a tuple of None, bool, int, float and str for persistent storage but contains (12544, 256, 128, 10) which is of type tuple.\n",
      "  warnings.warn(message)\n"
     ]
    },
    {
     "name": "stdout",
     "output_type": "stream",
     "text": [
      "Epoch 1/25, Train Loss: 2.0319\n",
      "Test Loss: 1.7711, Test F1-Score: 0.3187\n",
      "Epoch 2/25, Train Loss: 1.6571\n",
      "Test Loss: 1.4613, Test F1-Score: 0.4559\n",
      "Epoch 3/25, Train Loss: 1.3774\n",
      "Test Loss: 1.2824, Test F1-Score: 0.5394\n",
      "Epoch 4/25, Train Loss: 1.2102\n",
      "Test Loss: 1.1412, Test F1-Score: 0.5975\n",
      "Epoch 5/25, Train Loss: 1.1262\n",
      "Test Loss: 1.1159, Test F1-Score: 0.6057\n",
      "Epoch 6/25, Train Loss: 1.0275\n",
      "Test Loss: 1.0411, Test F1-Score: 0.6453\n",
      "Epoch 7/25, Train Loss: 0.9573\n",
      "Test Loss: 1.0047, Test F1-Score: 0.6549\n",
      "Epoch 8/25, Train Loss: 0.8947\n",
      "Test Loss: 0.9379, Test F1-Score: 0.6857\n",
      "Epoch 9/25, Train Loss: 0.8257\n",
      "Test Loss: 0.9344, Test F1-Score: 0.6884\n",
      "Epoch 10/25, Train Loss: 0.7903\n",
      "Test Loss: 0.9186, Test F1-Score: 0.6920\n",
      "Epoch 11/25, Train Loss: 0.7451\n",
      "Test Loss: 0.8554, Test F1-Score: 0.7194\n",
      "Epoch 12/25, Train Loss: 0.6982\n",
      "Test Loss: 0.8698, Test F1-Score: 0.7110\n",
      "Epoch 13/25, Train Loss: 0.6462\n",
      "Test Loss: 0.8908, Test F1-Score: 0.7134\n",
      "Epoch 14/25, Train Loss: 0.6194\n",
      "Test Loss: 0.8581, Test F1-Score: 0.7148\n",
      "Epoch 15/25, Train Loss: 0.5687\n",
      "Test Loss: 0.9270, Test F1-Score: 0.7078\n",
      "Epoch 16/25, Train Loss: 0.5546\n",
      "Test Loss: 0.9040, Test F1-Score: 0.7223\n",
      "Epoch 17/25, Train Loss: 0.5213\n",
      "Test Loss: 0.8792, Test F1-Score: 0.7205\n",
      "Epoch 18/25, Train Loss: 0.4883\n",
      "Test Loss: 0.8848, Test F1-Score: 0.7230\n",
      "Epoch 19/25, Train Loss: 0.4758\n",
      "Test Loss: 0.9283, Test F1-Score: 0.7337\n",
      "Epoch 20/25, Train Loss: 0.4411\n",
      "Test Loss: 0.9060, Test F1-Score: 0.7430\n",
      "Epoch 21/25, Train Loss: 0.4328\n",
      "Test Loss: 0.8741, Test F1-Score: 0.7413\n",
      "Epoch 22/25, Train Loss: 0.3971\n",
      "Test Loss: 0.9830, Test F1-Score: 0.7235\n",
      "Epoch 23/25, Train Loss: 0.4011\n",
      "Test Loss: 0.9174, Test F1-Score: 0.7406\n",
      "Epoch 24/25, Train Loss: 0.3855\n",
      "Test Loss: 0.9389, Test F1-Score: 0.7421\n",
      "Epoch 25/25, Train Loss: 0.3695\n"
     ]
    },
    {
     "name": "stderr",
     "output_type": "stream",
     "text": [
      "[I 2025-03-28 00:25:29,551] Trial 10 finished with value: 0.7389763177913662 and parameters: {'fc_layers': (12544, 256, 10), 'dropout_rate': 0.25, 'learning_rate': 0.001}. Best is trial 7 with value: 0.7551959275180048.\n"
     ]
    },
    {
     "name": "stdout",
     "output_type": "stream",
     "text": [
      "Test Loss: 0.9259, Test F1-Score: 0.7390\n"
     ]
    },
    {
     "name": "stderr",
     "output_type": "stream",
     "text": [
      "C:\\Users\\PC\\PycharmProjects\\CV_Project\\.venv\\lib\\site-packages\\optuna\\distributions.py:515: UserWarning: Choices for a categorical distribution should be a tuple of None, bool, int, float and str for persistent storage but contains (12544, 10) which is of type tuple.\n",
      "  warnings.warn(message)\n",
      "C:\\Users\\PC\\PycharmProjects\\CV_Project\\.venv\\lib\\site-packages\\optuna\\distributions.py:515: UserWarning: Choices for a categorical distribution should be a tuple of None, bool, int, float and str for persistent storage but contains (12544, 256, 10) which is of type tuple.\n",
      "  warnings.warn(message)\n",
      "C:\\Users\\PC\\PycharmProjects\\CV_Project\\.venv\\lib\\site-packages\\optuna\\distributions.py:515: UserWarning: Choices for a categorical distribution should be a tuple of None, bool, int, float and str for persistent storage but contains (12544, 256, 128, 10) which is of type tuple.\n",
      "  warnings.warn(message)\n"
     ]
    },
    {
     "name": "stdout",
     "output_type": "stream",
     "text": [
      "Epoch 1/25, Train Loss: 2.0266\n",
      "Test Loss: 1.8283, Test F1-Score: 0.2975\n",
      "Epoch 2/25, Train Loss: 1.5138\n",
      "Test Loss: 1.5039, Test F1-Score: 0.4738\n",
      "Epoch 3/25, Train Loss: 1.2444\n",
      "Test Loss: 1.2787, Test F1-Score: 0.5610\n",
      "Epoch 4/25, Train Loss: 1.1130\n",
      "Test Loss: 1.1414, Test F1-Score: 0.6138\n",
      "Epoch 5/25, Train Loss: 0.9835\n",
      "Test Loss: 1.0567, Test F1-Score: 0.6462\n",
      "Epoch 6/25, Train Loss: 0.9053\n",
      "Test Loss: 1.0344, Test F1-Score: 0.6527\n",
      "Epoch 7/25, Train Loss: 0.8365\n",
      "Test Loss: 0.9708, Test F1-Score: 0.6780\n",
      "Epoch 8/25, Train Loss: 0.7771\n",
      "Test Loss: 0.9000, Test F1-Score: 0.6887\n",
      "Epoch 9/25, Train Loss: 0.7174\n",
      "Test Loss: 0.9102, Test F1-Score: 0.7060\n",
      "Epoch 10/25, Train Loss: 0.6768\n",
      "Test Loss: 0.8841, Test F1-Score: 0.7108\n",
      "Epoch 11/25, Train Loss: 0.6240\n",
      "Test Loss: 0.8325, Test F1-Score: 0.7260\n",
      "Epoch 12/25, Train Loss: 0.5865\n",
      "Test Loss: 0.8735, Test F1-Score: 0.7147\n",
      "Epoch 13/25, Train Loss: 0.5558\n",
      "Test Loss: 0.8612, Test F1-Score: 0.7249\n",
      "Epoch 14/25, Train Loss: 0.5169\n",
      "Test Loss: 0.8383, Test F1-Score: 0.7269\n",
      "Epoch 15/25, Train Loss: 0.5042\n",
      "Test Loss: 0.8555, Test F1-Score: 0.7335\n",
      "Epoch 16/25, Train Loss: 0.4715\n",
      "Test Loss: 0.8557, Test F1-Score: 0.7438\n",
      "Epoch 17/25, Train Loss: 0.4511\n",
      "Test Loss: 0.8645, Test F1-Score: 0.7394\n",
      "Epoch 18/25, Train Loss: 0.4289\n",
      "Test Loss: 0.8654, Test F1-Score: 0.7385\n",
      "Epoch 19/25, Train Loss: 0.4074\n",
      "Test Loss: 0.8399, Test F1-Score: 0.7466\n",
      "Epoch 20/25, Train Loss: 0.3850\n",
      "Test Loss: 0.8743, Test F1-Score: 0.7422\n",
      "Epoch 21/25, Train Loss: 0.3697\n",
      "Test Loss: 0.8910, Test F1-Score: 0.7502\n",
      "Epoch 22/25, Train Loss: 0.3579\n",
      "Test Loss: 0.9334, Test F1-Score: 0.7416\n",
      "Epoch 23/25, Train Loss: 0.3384\n",
      "Test Loss: 0.9525, Test F1-Score: 0.7420\n",
      "Epoch 24/25, Train Loss: 0.3359\n",
      "Test Loss: 1.0270, Test F1-Score: 0.7285\n",
      "Epoch 25/25, Train Loss: 0.3125\n"
     ]
    },
    {
     "name": "stderr",
     "output_type": "stream",
     "text": [
      "[I 2025-03-28 00:43:15,051] Trial 11 finished with value: 0.7548132850256233 and parameters: {'fc_layers': (12544, 10), 'dropout_rate': 0.25, 'learning_rate': 0.001}. Best is trial 7 with value: 0.7551959275180048.\n"
     ]
    },
    {
     "name": "stdout",
     "output_type": "stream",
     "text": [
      "Test Loss: 0.9304, Test F1-Score: 0.7548\n"
     ]
    },
    {
     "name": "stderr",
     "output_type": "stream",
     "text": [
      "C:\\Users\\PC\\PycharmProjects\\CV_Project\\.venv\\lib\\site-packages\\optuna\\distributions.py:515: UserWarning: Choices for a categorical distribution should be a tuple of None, bool, int, float and str for persistent storage but contains (12544, 10) which is of type tuple.\n",
      "  warnings.warn(message)\n",
      "C:\\Users\\PC\\PycharmProjects\\CV_Project\\.venv\\lib\\site-packages\\optuna\\distributions.py:515: UserWarning: Choices for a categorical distribution should be a tuple of None, bool, int, float and str for persistent storage but contains (12544, 256, 10) which is of type tuple.\n",
      "  warnings.warn(message)\n",
      "C:\\Users\\PC\\PycharmProjects\\CV_Project\\.venv\\lib\\site-packages\\optuna\\distributions.py:515: UserWarning: Choices for a categorical distribution should be a tuple of None, bool, int, float and str for persistent storage but contains (12544, 256, 128, 10) which is of type tuple.\n",
      "  warnings.warn(message)\n"
     ]
    },
    {
     "name": "stdout",
     "output_type": "stream",
     "text": [
      "Epoch 1/25, Train Loss: 1.9511\n",
      "Test Loss: 1.6414, Test F1-Score: 0.4239\n",
      "Epoch 2/25, Train Loss: 1.4186\n",
      "Test Loss: 1.3757, Test F1-Score: 0.5293\n",
      "Epoch 3/25, Train Loss: 1.1842\n",
      "Test Loss: 1.1929, Test F1-Score: 0.5973\n",
      "Epoch 4/25, Train Loss: 1.0524\n",
      "Test Loss: 1.0775, Test F1-Score: 0.6279\n",
      "Epoch 5/25, Train Loss: 0.9475\n",
      "Test Loss: 0.9789, Test F1-Score: 0.6827\n",
      "Epoch 6/25, Train Loss: 0.8835\n",
      "Test Loss: 0.9713, Test F1-Score: 0.6779\n",
      "Epoch 7/25, Train Loss: 0.8086\n",
      "Test Loss: 0.8773, Test F1-Score: 0.7075\n",
      "Epoch 8/25, Train Loss: 0.7509\n",
      "Test Loss: 0.9381, Test F1-Score: 0.6948\n",
      "Epoch 9/25, Train Loss: 0.7051\n",
      "Test Loss: 0.8415, Test F1-Score: 0.7214\n",
      "Epoch 10/25, Train Loss: 0.6603\n",
      "Test Loss: 0.8739, Test F1-Score: 0.7094\n",
      "Epoch 11/25, Train Loss: 0.6249\n",
      "Test Loss: 0.8313, Test F1-Score: 0.7362\n",
      "Epoch 12/25, Train Loss: 0.5785\n",
      "Test Loss: 0.8007, Test F1-Score: 0.7469\n",
      "Epoch 13/25, Train Loss: 0.5518\n",
      "Test Loss: 0.8874, Test F1-Score: 0.7377\n",
      "Epoch 14/25, Train Loss: 0.5335\n",
      "Test Loss: 0.7790, Test F1-Score: 0.7529\n",
      "Epoch 15/25, Train Loss: 0.4921\n",
      "Test Loss: 0.8319, Test F1-Score: 0.7433\n",
      "Epoch 16/25, Train Loss: 0.4679\n",
      "Test Loss: 0.8778, Test F1-Score: 0.7354\n",
      "Epoch 17/25, Train Loss: 0.4502\n",
      "Test Loss: 0.8391, Test F1-Score: 0.7503\n",
      "Epoch 18/25, Train Loss: 0.4323\n",
      "Test Loss: 0.8952, Test F1-Score: 0.7310\n",
      "Epoch 19/25, Train Loss: 0.4156\n",
      "Test Loss: 0.9123, Test F1-Score: 0.7483\n",
      "Epoch 20/25, Train Loss: 0.3945\n",
      "Test Loss: 0.8779, Test F1-Score: 0.7416\n",
      "Epoch 21/25, Train Loss: 0.3755\n",
      "Test Loss: 0.9145, Test F1-Score: 0.7546\n",
      "Epoch 22/25, Train Loss: 0.3694\n",
      "Test Loss: 0.9331, Test F1-Score: 0.7470\n",
      "Epoch 23/25, Train Loss: 0.3527\n",
      "Test Loss: 0.8599, Test F1-Score: 0.7582\n",
      "Epoch 24/25, Train Loss: 0.3417\n",
      "Test Loss: 0.9176, Test F1-Score: 0.7638\n",
      "Epoch 25/25, Train Loss: 0.3346\n"
     ]
    },
    {
     "name": "stderr",
     "output_type": "stream",
     "text": [
      "[I 2025-03-28 01:01:01,626] Trial 12 finished with value: 0.7568254763698823 and parameters: {'fc_layers': (12544, 10), 'dropout_rate': 0.25, 'learning_rate': 0.001}. Best is trial 12 with value: 0.7568254763698823.\n"
     ]
    },
    {
     "name": "stdout",
     "output_type": "stream",
     "text": [
      "Test Loss: 0.9620, Test F1-Score: 0.7568\n"
     ]
    },
    {
     "name": "stderr",
     "output_type": "stream",
     "text": [
      "C:\\Users\\PC\\PycharmProjects\\CV_Project\\.venv\\lib\\site-packages\\optuna\\distributions.py:515: UserWarning: Choices for a categorical distribution should be a tuple of None, bool, int, float and str for persistent storage but contains (12544, 10) which is of type tuple.\n",
      "  warnings.warn(message)\n",
      "C:\\Users\\PC\\PycharmProjects\\CV_Project\\.venv\\lib\\site-packages\\optuna\\distributions.py:515: UserWarning: Choices for a categorical distribution should be a tuple of None, bool, int, float and str for persistent storage but contains (12544, 256, 10) which is of type tuple.\n",
      "  warnings.warn(message)\n",
      "C:\\Users\\PC\\PycharmProjects\\CV_Project\\.venv\\lib\\site-packages\\optuna\\distributions.py:515: UserWarning: Choices for a categorical distribution should be a tuple of None, bool, int, float and str for persistent storage but contains (12544, 256, 128, 10) which is of type tuple.\n",
      "  warnings.warn(message)\n"
     ]
    },
    {
     "name": "stdout",
     "output_type": "stream",
     "text": [
      "Epoch 1/25, Train Loss: 1.9493\n",
      "Test Loss: 1.6337, Test F1-Score: 0.3969\n",
      "Epoch 2/25, Train Loss: 1.4267\n",
      "Test Loss: 1.3116, Test F1-Score: 0.5458\n",
      "Epoch 3/25, Train Loss: 1.2139\n",
      "Test Loss: 1.2553, Test F1-Score: 0.5704\n",
      "Epoch 4/25, Train Loss: 1.0793\n",
      "Test Loss: 1.1144, Test F1-Score: 0.6239\n",
      "Epoch 5/25, Train Loss: 0.9840\n",
      "Test Loss: 1.0170, Test F1-Score: 0.6535\n",
      "Epoch 6/25, Train Loss: 0.9078\n",
      "Test Loss: 0.9165, Test F1-Score: 0.6979\n",
      "Epoch 7/25, Train Loss: 0.8366\n",
      "Test Loss: 0.9269, Test F1-Score: 0.6896\n",
      "Epoch 8/25, Train Loss: 0.7784\n",
      "Test Loss: 0.9153, Test F1-Score: 0.7045\n",
      "Epoch 9/25, Train Loss: 0.7274\n",
      "Test Loss: 0.9358, Test F1-Score: 0.6983\n",
      "Epoch 10/25, Train Loss: 0.6865\n",
      "Test Loss: 0.7942, Test F1-Score: 0.7329\n",
      "Epoch 11/25, Train Loss: 0.6421\n",
      "Test Loss: 0.8489, Test F1-Score: 0.7204\n",
      "Epoch 12/25, Train Loss: 0.6097\n",
      "Test Loss: 0.8312, Test F1-Score: 0.7332\n",
      "Epoch 13/25, Train Loss: 0.5649\n",
      "Test Loss: 0.8133, Test F1-Score: 0.7324\n",
      "Epoch 14/25, Train Loss: 0.5311\n",
      "Test Loss: 0.8402, Test F1-Score: 0.7345\n",
      "Epoch 15/25, Train Loss: 0.5141\n",
      "Test Loss: 0.8277, Test F1-Score: 0.7481\n",
      "Epoch 16/25, Train Loss: 0.4909\n",
      "Test Loss: 0.7659, Test F1-Score: 0.7560\n",
      "Epoch 17/25, Train Loss: 0.4611\n",
      "Test Loss: 0.7761, Test F1-Score: 0.7619\n",
      "Epoch 18/25, Train Loss: 0.4285\n",
      "Test Loss: 0.7885, Test F1-Score: 0.7643\n",
      "Epoch 19/25, Train Loss: 0.4159\n",
      "Test Loss: 0.8388, Test F1-Score: 0.7473\n",
      "Epoch 20/25, Train Loss: 0.3919\n",
      "Test Loss: 0.7925, Test F1-Score: 0.7735\n",
      "Epoch 21/25, Train Loss: 0.3882\n",
      "Test Loss: 0.8318, Test F1-Score: 0.7642\n",
      "Epoch 22/25, Train Loss: 0.3747\n",
      "Test Loss: 0.8511, Test F1-Score: 0.7617\n",
      "Epoch 23/25, Train Loss: 0.3572\n",
      "Test Loss: 0.7859, Test F1-Score: 0.7717\n",
      "Epoch 24/25, Train Loss: 0.3366\n",
      "Test Loss: 0.9076, Test F1-Score: 0.7568\n",
      "Epoch 25/25, Train Loss: 0.3301\n"
     ]
    },
    {
     "name": "stderr",
     "output_type": "stream",
     "text": [
      "[I 2025-03-28 01:18:47,018] Trial 13 finished with value: 0.7586487525854689 and parameters: {'fc_layers': (12544, 10), 'dropout_rate': 0.25, 'learning_rate': 0.001}. Best is trial 13 with value: 0.7586487525854689.\n"
     ]
    },
    {
     "name": "stdout",
     "output_type": "stream",
     "text": [
      "Test Loss: 0.8709, Test F1-Score: 0.7586\n"
     ]
    },
    {
     "name": "stderr",
     "output_type": "stream",
     "text": [
      "C:\\Users\\PC\\PycharmProjects\\CV_Project\\.venv\\lib\\site-packages\\optuna\\distributions.py:515: UserWarning: Choices for a categorical distribution should be a tuple of None, bool, int, float and str for persistent storage but contains (12544, 10) which is of type tuple.\n",
      "  warnings.warn(message)\n",
      "C:\\Users\\PC\\PycharmProjects\\CV_Project\\.venv\\lib\\site-packages\\optuna\\distributions.py:515: UserWarning: Choices for a categorical distribution should be a tuple of None, bool, int, float and str for persistent storage but contains (12544, 256, 10) which is of type tuple.\n",
      "  warnings.warn(message)\n",
      "C:\\Users\\PC\\PycharmProjects\\CV_Project\\.venv\\lib\\site-packages\\optuna\\distributions.py:515: UserWarning: Choices for a categorical distribution should be a tuple of None, bool, int, float and str for persistent storage but contains (12544, 256, 128, 10) which is of type tuple.\n",
      "  warnings.warn(message)\n"
     ]
    },
    {
     "name": "stdout",
     "output_type": "stream",
     "text": [
      "Epoch 1/25, Train Loss: 1.9139\n",
      "Test Loss: 1.6055, Test F1-Score: 0.4170\n",
      "Epoch 2/25, Train Loss: 1.4229\n",
      "Test Loss: 1.2715, Test F1-Score: 0.5614\n",
      "Epoch 3/25, Train Loss: 1.2199\n",
      "Test Loss: 1.3290, Test F1-Score: 0.5517\n",
      "Epoch 4/25, Train Loss: 1.0962\n",
      "Test Loss: 1.1444, Test F1-Score: 0.6191\n",
      "Epoch 5/25, Train Loss: 1.0082\n",
      "Test Loss: 1.0381, Test F1-Score: 0.6560\n",
      "Epoch 6/25, Train Loss: 0.9321\n",
      "Test Loss: 1.0849, Test F1-Score: 0.6522\n",
      "Epoch 7/25, Train Loss: 0.8639\n",
      "Test Loss: 0.9515, Test F1-Score: 0.6831\n",
      "Epoch 8/25, Train Loss: 0.8096\n",
      "Test Loss: 1.0282, Test F1-Score: 0.6752\n",
      "Epoch 9/25, Train Loss: 0.7509\n",
      "Test Loss: 0.9227, Test F1-Score: 0.6915\n",
      "Epoch 10/25, Train Loss: 0.7037\n",
      "Test Loss: 0.8396, Test F1-Score: 0.7217\n",
      "Epoch 11/25, Train Loss: 0.6651\n",
      "Test Loss: 0.8603, Test F1-Score: 0.7121\n",
      "Epoch 12/25, Train Loss: 0.6183\n",
      "Test Loss: 0.8659, Test F1-Score: 0.7270\n",
      "Epoch 13/25, Train Loss: 0.5830\n",
      "Test Loss: 0.8227, Test F1-Score: 0.7332\n",
      "Epoch 14/25, Train Loss: 0.5547\n",
      "Test Loss: 0.8605, Test F1-Score: 0.7387\n",
      "Epoch 15/25, Train Loss: 0.5325\n",
      "Test Loss: 0.8112, Test F1-Score: 0.7438\n",
      "Epoch 16/25, Train Loss: 0.4977\n",
      "Test Loss: 0.7788, Test F1-Score: 0.7543\n",
      "Epoch 17/25, Train Loss: 0.4743\n",
      "Test Loss: 0.8536, Test F1-Score: 0.7313\n",
      "Epoch 18/25, Train Loss: 0.4529\n",
      "Test Loss: 0.8608, Test F1-Score: 0.7490\n",
      "Epoch 19/25, Train Loss: 0.4450\n",
      "Test Loss: 0.9122, Test F1-Score: 0.7411\n",
      "Epoch 20/25, Train Loss: 0.4072\n",
      "Test Loss: 0.8948, Test F1-Score: 0.7370\n",
      "Epoch 21/25, Train Loss: 0.4019\n",
      "Test Loss: 0.9194, Test F1-Score: 0.7482\n",
      "Epoch 22/25, Train Loss: 0.3723\n",
      "Test Loss: 0.9722, Test F1-Score: 0.7515\n",
      "Epoch 23/25, Train Loss: 0.3665\n",
      "Test Loss: 0.9147, Test F1-Score: 0.7545\n",
      "Epoch 24/25, Train Loss: 0.3565\n",
      "Test Loss: 0.9456, Test F1-Score: 0.7491\n",
      "Epoch 25/25, Train Loss: 0.3422\n"
     ]
    },
    {
     "name": "stderr",
     "output_type": "stream",
     "text": [
      "[I 2025-03-28 01:36:31,739] Trial 14 finished with value: 0.7445213177788726 and parameters: {'fc_layers': (12544, 10), 'dropout_rate': 0.25, 'learning_rate': 0.001}. Best is trial 13 with value: 0.7586487525854689.\n"
     ]
    },
    {
     "name": "stdout",
     "output_type": "stream",
     "text": [
      "Test Loss: 0.9213, Test F1-Score: 0.7445\n"
     ]
    },
    {
     "name": "stderr",
     "output_type": "stream",
     "text": [
      "C:\\Users\\PC\\PycharmProjects\\CV_Project\\.venv\\lib\\site-packages\\optuna\\distributions.py:515: UserWarning: Choices for a categorical distribution should be a tuple of None, bool, int, float and str for persistent storage but contains (12544, 10) which is of type tuple.\n",
      "  warnings.warn(message)\n",
      "C:\\Users\\PC\\PycharmProjects\\CV_Project\\.venv\\lib\\site-packages\\optuna\\distributions.py:515: UserWarning: Choices for a categorical distribution should be a tuple of None, bool, int, float and str for persistent storage but contains (12544, 256, 10) which is of type tuple.\n",
      "  warnings.warn(message)\n",
      "C:\\Users\\PC\\PycharmProjects\\CV_Project\\.venv\\lib\\site-packages\\optuna\\distributions.py:515: UserWarning: Choices for a categorical distribution should be a tuple of None, bool, int, float and str for persistent storage but contains (12544, 256, 128, 10) which is of type tuple.\n",
      "  warnings.warn(message)\n"
     ]
    },
    {
     "name": "stdout",
     "output_type": "stream",
     "text": [
      "Epoch 1/25, Train Loss: 1.9061\n",
      "Test Loss: 1.5611, Test F1-Score: 0.4569\n",
      "Epoch 2/25, Train Loss: 1.4069\n",
      "Test Loss: 1.3074, Test F1-Score: 0.5406\n",
      "Epoch 3/25, Train Loss: 1.2004\n",
      "Test Loss: 1.1447, Test F1-Score: 0.6125\n",
      "Epoch 4/25, Train Loss: 1.0916\n",
      "Test Loss: 1.1558, Test F1-Score: 0.6082\n",
      "Epoch 5/25, Train Loss: 0.9928\n",
      "Test Loss: 1.0091, Test F1-Score: 0.6550\n",
      "Epoch 6/25, Train Loss: 0.9278\n",
      "Test Loss: 0.9616, Test F1-Score: 0.6816\n",
      "Epoch 7/25, Train Loss: 0.8629\n",
      "Test Loss: 0.9703, Test F1-Score: 0.6828\n",
      "Epoch 8/25, Train Loss: 0.7998\n",
      "Test Loss: 0.9213, Test F1-Score: 0.6926\n",
      "Epoch 9/25, Train Loss: 0.7446\n",
      "Test Loss: 0.8644, Test F1-Score: 0.7138\n",
      "Epoch 10/25, Train Loss: 0.6980\n",
      "Test Loss: 0.8591, Test F1-Score: 0.7207\n",
      "Epoch 11/25, Train Loss: 0.6649\n",
      "Test Loss: 0.8191, Test F1-Score: 0.7391\n",
      "Epoch 12/25, Train Loss: 0.6326\n",
      "Test Loss: 0.8431, Test F1-Score: 0.7263\n",
      "Epoch 13/25, Train Loss: 0.5905\n",
      "Test Loss: 0.8116, Test F1-Score: 0.7259\n",
      "Epoch 14/25, Train Loss: 0.5723\n",
      "Test Loss: 0.8064, Test F1-Score: 0.7450\n",
      "Epoch 15/25, Train Loss: 0.5339\n",
      "Test Loss: 0.8346, Test F1-Score: 0.7403\n",
      "Epoch 16/25, Train Loss: 0.5191\n",
      "Test Loss: 0.8370, Test F1-Score: 0.7312\n",
      "Epoch 17/25, Train Loss: 0.4825\n",
      "Test Loss: 0.9558, Test F1-Score: 0.7206\n",
      "Epoch 18/25, Train Loss: 0.4635\n",
      "Test Loss: 0.8583, Test F1-Score: 0.7430\n",
      "Epoch 19/25, Train Loss: 0.4274\n",
      "Test Loss: 0.8170, Test F1-Score: 0.7581\n",
      "Epoch 20/25, Train Loss: 0.4305\n",
      "Test Loss: 0.7708, Test F1-Score: 0.7642\n",
      "Epoch 21/25, Train Loss: 0.3956\n",
      "Test Loss: 0.8278, Test F1-Score: 0.7537\n",
      "Epoch 22/25, Train Loss: 0.3866\n",
      "Test Loss: 0.9486, Test F1-Score: 0.7433\n",
      "Epoch 23/25, Train Loss: 0.3707\n",
      "Test Loss: 0.7942, Test F1-Score: 0.7606\n",
      "Epoch 24/25, Train Loss: 0.3629\n",
      "Test Loss: 0.9177, Test F1-Score: 0.7527\n",
      "Epoch 25/25, Train Loss: 0.3486\n"
     ]
    },
    {
     "name": "stderr",
     "output_type": "stream",
     "text": [
      "[I 2025-03-28 01:54:17,105] Trial 15 finished with value: 0.7666946481241677 and parameters: {'fc_layers': (12544, 10), 'dropout_rate': 0.25, 'learning_rate': 0.001}. Best is trial 15 with value: 0.7666946481241677.\n"
     ]
    },
    {
     "name": "stdout",
     "output_type": "stream",
     "text": [
      "Test Loss: 0.8436, Test F1-Score: 0.7667\n"
     ]
    },
    {
     "name": "stderr",
     "output_type": "stream",
     "text": [
      "C:\\Users\\PC\\PycharmProjects\\CV_Project\\.venv\\lib\\site-packages\\optuna\\distributions.py:515: UserWarning: Choices for a categorical distribution should be a tuple of None, bool, int, float and str for persistent storage but contains (12544, 10) which is of type tuple.\n",
      "  warnings.warn(message)\n",
      "C:\\Users\\PC\\PycharmProjects\\CV_Project\\.venv\\lib\\site-packages\\optuna\\distributions.py:515: UserWarning: Choices for a categorical distribution should be a tuple of None, bool, int, float and str for persistent storage but contains (12544, 256, 10) which is of type tuple.\n",
      "  warnings.warn(message)\n",
      "C:\\Users\\PC\\PycharmProjects\\CV_Project\\.venv\\lib\\site-packages\\optuna\\distributions.py:515: UserWarning: Choices for a categorical distribution should be a tuple of None, bool, int, float and str for persistent storage but contains (12544, 256, 128, 10) which is of type tuple.\n",
      "  warnings.warn(message)\n"
     ]
    },
    {
     "name": "stdout",
     "output_type": "stream",
     "text": [
      "Epoch 1/25, Train Loss: 1.9354\n",
      "Test Loss: 1.6386, Test F1-Score: 0.3959\n",
      "Epoch 2/25, Train Loss: 1.4230\n",
      "Test Loss: 1.2926, Test F1-Score: 0.5453\n",
      "Epoch 3/25, Train Loss: 1.2100\n",
      "Test Loss: 1.3102, Test F1-Score: 0.5474\n",
      "Epoch 4/25, Train Loss: 1.0900\n",
      "Test Loss: 1.0737, Test F1-Score: 0.6381\n",
      "Epoch 5/25, Train Loss: 0.9696\n",
      "Test Loss: 1.0608, Test F1-Score: 0.6425\n",
      "Epoch 6/25, Train Loss: 0.8909\n",
      "Test Loss: 0.9901, Test F1-Score: 0.6698\n",
      "Epoch 7/25, Train Loss: 0.8186\n",
      "Test Loss: 0.9367, Test F1-Score: 0.6850\n",
      "Epoch 8/25, Train Loss: 0.7567\n",
      "Test Loss: 0.9533, Test F1-Score: 0.6842\n",
      "Epoch 9/25, Train Loss: 0.7122\n",
      "Test Loss: 0.8654, Test F1-Score: 0.6976\n",
      "Epoch 10/25, Train Loss: 0.6636\n",
      "Test Loss: 0.8251, Test F1-Score: 0.7264\n",
      "Epoch 11/25, Train Loss: 0.6071\n",
      "Test Loss: 0.8841, Test F1-Score: 0.7206\n",
      "Epoch 12/25, Train Loss: 0.5774\n",
      "Test Loss: 0.8018, Test F1-Score: 0.7377\n",
      "Epoch 13/25, Train Loss: 0.5380\n",
      "Test Loss: 0.7831, Test F1-Score: 0.7452\n",
      "Epoch 14/25, Train Loss: 0.5118\n",
      "Test Loss: 0.8330, Test F1-Score: 0.7388\n",
      "Epoch 15/25, Train Loss: 0.4789\n",
      "Test Loss: 0.7594, Test F1-Score: 0.7644\n",
      "Epoch 16/25, Train Loss: 0.4503\n",
      "Test Loss: 0.7677, Test F1-Score: 0.7713\n",
      "Epoch 17/25, Train Loss: 0.4412\n",
      "Test Loss: 0.8749, Test F1-Score: 0.7343\n",
      "Epoch 18/25, Train Loss: 0.4148\n",
      "Test Loss: 0.8163, Test F1-Score: 0.7578\n",
      "Epoch 19/25, Train Loss: 0.3942\n",
      "Test Loss: 0.8311, Test F1-Score: 0.7602\n",
      "Epoch 20/25, Train Loss: 0.3790\n",
      "Test Loss: 0.8151, Test F1-Score: 0.7621\n",
      "Epoch 21/25, Train Loss: 0.3511\n",
      "Test Loss: 0.8220, Test F1-Score: 0.7655\n",
      "Epoch 22/25, Train Loss: 0.3411\n",
      "Test Loss: 0.8383, Test F1-Score: 0.7629\n",
      "Epoch 23/25, Train Loss: 0.3256\n",
      "Test Loss: 0.8188, Test F1-Score: 0.7787\n",
      "Epoch 24/25, Train Loss: 0.3100\n",
      "Test Loss: 0.8094, Test F1-Score: 0.7716\n",
      "Epoch 25/25, Train Loss: 0.3013\n"
     ]
    },
    {
     "name": "stderr",
     "output_type": "stream",
     "text": [
      "[I 2025-03-28 02:11:59,428] Trial 16 finished with value: 0.7659363037890394 and parameters: {'fc_layers': (12544, 10), 'dropout_rate': 0.25, 'learning_rate': 0.001}. Best is trial 15 with value: 0.7666946481241677.\n"
     ]
    },
    {
     "name": "stdout",
     "output_type": "stream",
     "text": [
      "Test Loss: 0.8876, Test F1-Score: 0.7659\n"
     ]
    },
    {
     "name": "stderr",
     "output_type": "stream",
     "text": [
      "C:\\Users\\PC\\PycharmProjects\\CV_Project\\.venv\\lib\\site-packages\\optuna\\distributions.py:515: UserWarning: Choices for a categorical distribution should be a tuple of None, bool, int, float and str for persistent storage but contains (12544, 10) which is of type tuple.\n",
      "  warnings.warn(message)\n",
      "C:\\Users\\PC\\PycharmProjects\\CV_Project\\.venv\\lib\\site-packages\\optuna\\distributions.py:515: UserWarning: Choices for a categorical distribution should be a tuple of None, bool, int, float and str for persistent storage but contains (12544, 256, 10) which is of type tuple.\n",
      "  warnings.warn(message)\n",
      "C:\\Users\\PC\\PycharmProjects\\CV_Project\\.venv\\lib\\site-packages\\optuna\\distributions.py:515: UserWarning: Choices for a categorical distribution should be a tuple of None, bool, int, float and str for persistent storage but contains (12544, 256, 128, 10) which is of type tuple.\n",
      "  warnings.warn(message)\n"
     ]
    },
    {
     "name": "stdout",
     "output_type": "stream",
     "text": [
      "Epoch 1/25, Train Loss: 1.9437\n",
      "Test Loss: 1.5953, Test F1-Score: 0.4138\n",
      "Epoch 2/25, Train Loss: 1.4889\n",
      "Test Loss: 1.4104, Test F1-Score: 0.5141\n",
      "Epoch 3/25, Train Loss: 1.2583\n",
      "Test Loss: 1.2891, Test F1-Score: 0.5574\n",
      "Epoch 4/25, Train Loss: 1.1195\n",
      "Test Loss: 1.1147, Test F1-Score: 0.6263\n",
      "Epoch 5/25, Train Loss: 0.9945\n",
      "Test Loss: 1.0593, Test F1-Score: 0.6528\n",
      "Epoch 6/25, Train Loss: 0.9170\n",
      "Test Loss: 0.9699, Test F1-Score: 0.6894\n",
      "Epoch 7/25, Train Loss: 0.8370\n",
      "Test Loss: 0.9014, Test F1-Score: 0.7023\n",
      "Epoch 8/25, Train Loss: 0.7809\n",
      "Test Loss: 0.9512, Test F1-Score: 0.6950\n",
      "Epoch 9/25, Train Loss: 0.7273\n",
      "Test Loss: 0.8649, Test F1-Score: 0.7134\n",
      "Epoch 10/25, Train Loss: 0.6828\n",
      "Test Loss: 0.8400, Test F1-Score: 0.7178\n",
      "Epoch 11/25, Train Loss: 0.6295\n",
      "Test Loss: 0.8302, Test F1-Score: 0.7282\n",
      "Epoch 12/25, Train Loss: 0.6112\n",
      "Test Loss: 0.8585, Test F1-Score: 0.7280\n",
      "Epoch 13/25, Train Loss: 0.5665\n",
      "Test Loss: 0.8051, Test F1-Score: 0.7408\n",
      "Epoch 14/25, Train Loss: 0.5425\n",
      "Test Loss: 0.8949, Test F1-Score: 0.7235\n",
      "Epoch 15/25, Train Loss: 0.5079\n",
      "Test Loss: 0.8100, Test F1-Score: 0.7418\n",
      "Epoch 16/25, Train Loss: 0.4793\n",
      "Test Loss: 0.8577, Test F1-Score: 0.7318\n",
      "Epoch 17/25, Train Loss: 0.4477\n",
      "Test Loss: 0.9011, Test F1-Score: 0.7288\n",
      "Epoch 18/25, Train Loss: 0.4325\n",
      "Test Loss: 0.8283, Test F1-Score: 0.7565\n",
      "Epoch 19/25, Train Loss: 0.4179\n",
      "Test Loss: 0.8374, Test F1-Score: 0.7543\n",
      "Epoch 20/25, Train Loss: 0.3863\n",
      "Test Loss: 0.8791, Test F1-Score: 0.7502\n",
      "Epoch 21/25, Train Loss: 0.3839\n",
      "Test Loss: 0.9048, Test F1-Score: 0.7467\n",
      "Epoch 22/25, Train Loss: 0.3726\n",
      "Test Loss: 0.8851, Test F1-Score: 0.7563\n",
      "Epoch 23/25, Train Loss: 0.3481\n",
      "Test Loss: 0.9178, Test F1-Score: 0.7509\n",
      "Epoch 24/25, Train Loss: 0.3292\n",
      "Test Loss: 0.8879, Test F1-Score: 0.7585\n",
      "Epoch 25/25, Train Loss: 0.3144\n"
     ]
    },
    {
     "name": "stderr",
     "output_type": "stream",
     "text": [
      "[I 2025-03-28 02:29:45,726] Trial 17 finished with value: 0.7586276685785249 and parameters: {'fc_layers': (12544, 10), 'dropout_rate': 0.25, 'learning_rate': 0.001}. Best is trial 15 with value: 0.7666946481241677.\n"
     ]
    },
    {
     "name": "stdout",
     "output_type": "stream",
     "text": [
      "Test Loss: 0.9279, Test F1-Score: 0.7586\n"
     ]
    },
    {
     "name": "stderr",
     "output_type": "stream",
     "text": [
      "C:\\Users\\PC\\PycharmProjects\\CV_Project\\.venv\\lib\\site-packages\\optuna\\distributions.py:515: UserWarning: Choices for a categorical distribution should be a tuple of None, bool, int, float and str for persistent storage but contains (12544, 10) which is of type tuple.\n",
      "  warnings.warn(message)\n",
      "C:\\Users\\PC\\PycharmProjects\\CV_Project\\.venv\\lib\\site-packages\\optuna\\distributions.py:515: UserWarning: Choices for a categorical distribution should be a tuple of None, bool, int, float and str for persistent storage but contains (12544, 256, 10) which is of type tuple.\n",
      "  warnings.warn(message)\n",
      "C:\\Users\\PC\\PycharmProjects\\CV_Project\\.venv\\lib\\site-packages\\optuna\\distributions.py:515: UserWarning: Choices for a categorical distribution should be a tuple of None, bool, int, float and str for persistent storage but contains (12544, 256, 128, 10) which is of type tuple.\n",
      "  warnings.warn(message)\n"
     ]
    },
    {
     "name": "stdout",
     "output_type": "stream",
     "text": [
      "Epoch 1/25, Train Loss: 2.1765\n",
      "Test Loss: 2.0722, Test F1-Score: 0.1826\n",
      "Epoch 2/25, Train Loss: 1.9751\n",
      "Test Loss: 1.8787, Test F1-Score: 0.2778\n",
      "Epoch 3/25, Train Loss: 1.8271\n",
      "Test Loss: 1.7903, Test F1-Score: 0.3214\n",
      "Epoch 4/25, Train Loss: 1.7286\n",
      "Test Loss: 1.7188, Test F1-Score: 0.3447\n",
      "Epoch 5/25, Train Loss: 1.6424\n",
      "Test Loss: 1.6183, Test F1-Score: 0.4118\n",
      "Epoch 6/25, Train Loss: 1.5805\n",
      "Test Loss: 1.6146, Test F1-Score: 0.4011\n",
      "Epoch 7/25, Train Loss: 1.5212\n",
      "Test Loss: 1.5539, Test F1-Score: 0.4238\n",
      "Epoch 8/25, Train Loss: 1.4617\n",
      "Test Loss: 1.5633, Test F1-Score: 0.4382\n",
      "Epoch 9/25, Train Loss: 1.4152\n",
      "Test Loss: 1.4538, Test F1-Score: 0.4885\n",
      "Epoch 10/25, Train Loss: 1.3689\n",
      "Test Loss: 1.4327, Test F1-Score: 0.4938\n",
      "Epoch 11/25, Train Loss: 1.3225\n",
      "Test Loss: 1.3696, Test F1-Score: 0.5194\n",
      "Epoch 12/25, Train Loss: 1.2901\n",
      "Test Loss: 1.3440, Test F1-Score: 0.5326\n",
      "Epoch 13/25, Train Loss: 1.2475\n",
      "Test Loss: 1.3861, Test F1-Score: 0.5189\n",
      "Epoch 14/25, Train Loss: 1.2084\n",
      "Test Loss: 1.3442, Test F1-Score: 0.5308\n",
      "Epoch 15/25, Train Loss: 1.1699\n",
      "Test Loss: 1.2820, Test F1-Score: 0.5572\n",
      "Epoch 16/25, Train Loss: 1.1342\n",
      "Test Loss: 1.2449, Test F1-Score: 0.5695\n",
      "Epoch 17/25, Train Loss: 1.1063\n",
      "Test Loss: 1.2632, Test F1-Score: 0.5631\n",
      "Epoch 18/25, Train Loss: 1.0718\n",
      "Test Loss: 1.1846, Test F1-Score: 0.5942\n",
      "Epoch 19/25, Train Loss: 1.0450\n",
      "Test Loss: 1.2148, Test F1-Score: 0.5773\n",
      "Epoch 20/25, Train Loss: 1.0192\n",
      "Test Loss: 1.1648, Test F1-Score: 0.6004\n",
      "Epoch 21/25, Train Loss: 0.9851\n",
      "Test Loss: 1.1583, Test F1-Score: 0.6033\n",
      "Epoch 22/25, Train Loss: 0.9622\n",
      "Test Loss: 1.1286, Test F1-Score: 0.6204\n",
      "Epoch 23/25, Train Loss: 0.9326\n",
      "Test Loss: 1.1219, Test F1-Score: 0.6214\n",
      "Epoch 24/25, Train Loss: 0.9075\n",
      "Test Loss: 1.0694, Test F1-Score: 0.6367\n",
      "Epoch 25/25, Train Loss: 0.8941\n"
     ]
    },
    {
     "name": "stderr",
     "output_type": "stream",
     "text": [
      "[I 2025-03-28 02:47:37,604] Trial 18 finished with value: 0.6326334066261202 and parameters: {'fc_layers': (12544, 256, 128, 10), 'dropout_rate': 0.25, 'learning_rate': 0.0001}. Best is trial 15 with value: 0.7666946481241677.\n"
     ]
    },
    {
     "name": "stdout",
     "output_type": "stream",
     "text": [
      "Test Loss: 1.0736, Test F1-Score: 0.6326\n"
     ]
    },
    {
     "name": "stderr",
     "output_type": "stream",
     "text": [
      "C:\\Users\\PC\\PycharmProjects\\CV_Project\\.venv\\lib\\site-packages\\optuna\\distributions.py:515: UserWarning: Choices for a categorical distribution should be a tuple of None, bool, int, float and str for persistent storage but contains (12544, 10) which is of type tuple.\n",
      "  warnings.warn(message)\n",
      "C:\\Users\\PC\\PycharmProjects\\CV_Project\\.venv\\lib\\site-packages\\optuna\\distributions.py:515: UserWarning: Choices for a categorical distribution should be a tuple of None, bool, int, float and str for persistent storage but contains (12544, 256, 10) which is of type tuple.\n",
      "  warnings.warn(message)\n",
      "C:\\Users\\PC\\PycharmProjects\\CV_Project\\.venv\\lib\\site-packages\\optuna\\distributions.py:515: UserWarning: Choices for a categorical distribution should be a tuple of None, bool, int, float and str for persistent storage but contains (12544, 256, 128, 10) which is of type tuple.\n",
      "  warnings.warn(message)\n"
     ]
    },
    {
     "name": "stdout",
     "output_type": "stream",
     "text": [
      "Epoch 1/25, Train Loss: 3.2560\n",
      "Test Loss: 2.2180, Test F1-Score: 0.0574\n",
      "Epoch 2/25, Train Loss: 2.2092\n",
      "Test Loss: 2.2160, Test F1-Score: 0.0574\n",
      "Epoch 3/25, Train Loss: 2.2066\n",
      "Test Loss: 2.2165, Test F1-Score: 0.0574\n",
      "Epoch 4/25, Train Loss: 2.2059\n",
      "Test Loss: 2.2129, Test F1-Score: 0.0549\n",
      "Epoch 5/25, Train Loss: 2.2060\n",
      "Test Loss: 2.2139, Test F1-Score: 0.0574\n",
      "Epoch 6/25, Train Loss: 2.2052\n",
      "Test Loss: 2.2137, Test F1-Score: 0.0549\n",
      "Epoch 7/25, Train Loss: 2.2056\n",
      "Test Loss: 2.2149, Test F1-Score: 0.0574\n",
      "Epoch 8/25, Train Loss: 2.2049\n",
      "Test Loss: 2.2137, Test F1-Score: 0.0574\n",
      "Epoch 9/25, Train Loss: 2.2052\n",
      "Test Loss: 2.2128, Test F1-Score: 0.0574\n",
      "Epoch 10/25, Train Loss: 2.2055\n",
      "Test Loss: 2.2145, Test F1-Score: 0.0574\n",
      "Epoch 11/25, Train Loss: 2.2055\n",
      "Test Loss: 2.2133, Test F1-Score: 0.0574\n",
      "Epoch 12/25, Train Loss: 2.2055\n",
      "Test Loss: 2.2129, Test F1-Score: 0.0574\n",
      "Epoch 13/25, Train Loss: 2.2055\n",
      "Test Loss: 2.2133, Test F1-Score: 0.0549\n",
      "Epoch 14/25, Train Loss: 2.2058\n",
      "Test Loss: 2.2132, Test F1-Score: 0.0574\n",
      "Epoch 15/25, Train Loss: 2.2056\n",
      "Test Loss: 2.2133, Test F1-Score: 0.0574\n",
      "Epoch 16/25, Train Loss: 2.2052\n",
      "Test Loss: 2.2131, Test F1-Score: 0.0574\n",
      "Epoch 17/25, Train Loss: 2.2055\n",
      "Test Loss: 2.2127, Test F1-Score: 0.0574\n",
      "Epoch 18/25, Train Loss: 2.2054\n",
      "Test Loss: 2.2135, Test F1-Score: 0.0574\n",
      "Epoch 19/25, Train Loss: 2.2054\n",
      "Test Loss: 2.2137, Test F1-Score: 0.0574\n",
      "Epoch 20/25, Train Loss: 2.2054\n",
      "Test Loss: 2.2143, Test F1-Score: 0.0574\n",
      "Epoch 21/25, Train Loss: 2.2052\n",
      "Test Loss: 2.2134, Test F1-Score: 0.0574\n",
      "Epoch 22/25, Train Loss: 2.2052\n",
      "Test Loss: 2.2131, Test F1-Score: 0.0549\n",
      "Epoch 23/25, Train Loss: 2.2056\n",
      "Test Loss: 2.2126, Test F1-Score: 0.0574\n",
      "Epoch 24/25, Train Loss: 2.2053\n",
      "Test Loss: 2.2142, Test F1-Score: 0.0574\n",
      "Epoch 25/25, Train Loss: 2.2058\n"
     ]
    },
    {
     "name": "stderr",
     "output_type": "stream",
     "text": [
      "[I 2025-03-28 03:05:23,224] Trial 19 finished with value: 0.05737146539692102 and parameters: {'fc_layers': (12544, 10), 'dropout_rate': 0.25, 'learning_rate': 0.01}. Best is trial 15 with value: 0.7666946481241677.\n"
     ]
    },
    {
     "name": "stdout",
     "output_type": "stream",
     "text": [
      "Test Loss: 2.2134, Test F1-Score: 0.0574\n"
     ]
    }
   ],
   "execution_count": 33
  },
  {
   "cell_type": "code",
   "id": "22c8789ea57416b",
   "metadata": {
    "ExecuteTime": {
     "end_time": "2025-03-28T01:05:23.265936Z",
     "start_time": "2025-03-28T01:05:23.251121Z"
    }
   },
   "source": [
    "print(\"Best hyperparameters:\", study.best_params)"
   ],
   "outputs": [
    {
     "name": "stdout",
     "output_type": "stream",
     "text": [
      "Best hyperparameters: {'fc_layers': (12544, 10), 'dropout_rate': 0.25, 'learning_rate': 0.001}\n"
     ]
    }
   ],
   "execution_count": 34
  },
  {
   "cell_type": "code",
   "id": "fb3f866243b4df4f",
   "metadata": {
    "ExecuteTime": {
     "end_time": "2025-03-28T14:08:12.735193Z",
     "start_time": "2025-03-28T14:08:12.731133Z"
    }
   },
   "source": [
    "def plot_top_trials(study, top_n=3):\n",
    "    top_trials = sorted(study.trials, key=lambda t: t.user_attrs.get(f\"f1_epoch_{25}\", 0), reverse=True)[:top_n]\n",
    "    plt.figure(figsize=(12, 4))\n",
    "    \n",
    "\n",
    "    metrics = ['train_loss', 'test_loss', 'f1']\n",
    "    \n",
    "    \n",
    "    for i, metric in enumerate(metrics):\n",
    "        plt.subplot(1, 3, i+1)\n",
    "        for trial in top_trials:\n",
    "            epochs = sorted([int(k.split('_')[-1]) for k in trial.user_attrs.keys() if metric in k])\n",
    "            values = [trial.user_attrs[f\"{metric}_epoch_{epoch}\"] for epoch in epochs]\n",
    "            plt.plot(epochs, values, label=f'Trial {trial.number}')\n",
    "        \n",
    "        plt.xlabel('Epoch')\n",
    "        plt.ylabel(metric.replace('_', ' ').title())\n",
    "        plt.title(f'{metric.replace(\"_\", \" \").title()} per Epoch')\n",
    "        plt.legend()\n",
    "    \n",
    "    plt.tight_layout()\n",
    "    plt.show()\n",
    "    for trial in top_trials:\n",
    "        final_f1 = trial.user_attrs.get(f\"f1_epoch_{25}\", 0)\n",
    "        print(f\"Trial {trial.number} Parameters:\")\n",
    "        for key, value in trial.params.items():\n",
    "            print(f\"  {key}: {value}\")\n",
    "        print(f\"  Final F1 Score: {final_f1}\\n\")\n"
   ],
   "outputs": [],
   "execution_count": 42
  },
  {
   "cell_type": "code",
   "id": "30f8c893aa0ffba3",
   "metadata": {
    "ExecuteTime": {
     "end_time": "2025-03-28T14:08:13.308785Z",
     "start_time": "2025-03-28T14:08:13.073757Z"
    }
   },
   "source": "plot_top_trials(study, top_n=3)",
   "outputs": [
    {
     "data": {
      "text/plain": [
       "<Figure size 1200x400 with 3 Axes>"
      ],
      "image/png": "[encoded data removed]"
     },
     "metadata": {},
     "output_type": "display_data"
    },
    {
     "name": "stdout",
     "output_type": "stream",
     "text": [
      "Trial 15 Parameters:\n",
      "  fc_layers: (12544, 10)\n",
      "  dropout_rate: 0.25\n",
      "  learning_rate: 0.001\n",
      "  Final F1 Score: 0.7666946481241677\n",
      "\n",
      "Trial 16 Parameters:\n",
      "  fc_layers: (12544, 10)\n",
      "  dropout_rate: 0.25\n",
      "  learning_rate: 0.001\n",
      "  Final F1 Score: 0.7659363037890394\n",
      "\n",
      "Trial 13 Parameters:\n",
      "  fc_layers: (12544, 10)\n",
      "  dropout_rate: 0.25\n",
      "  learning_rate: 0.001\n",
      "  Final F1 Score: 0.7586487525854689\n",
      "\n"
     ]
    }
   ],
   "execution_count": 43
  },
  {
   "cell_type": "code",
   "id": "26617f8b66b1e4a4",
   "metadata": {
    "ExecuteTime": {
     "end_time": "2025-03-28T01:05:23.374932Z",
     "start_time": "2025-03-28T01:05:23.360780Z"
    }
   },
   "source": [],
   "outputs": [],
   "execution_count": null
  },
  {
   "cell_type": "code",
   "id": "1a84e5f59bbf6018",
   "metadata": {
    "ExecuteTime": {
     "end_time": "2025-03-28T01:05:23.405388Z",
     "start_time": "2025-03-28T01:05:23.391699Z"
    }
   },
   "source": [],
   "outputs": [],
   "execution_count": null
  }
 ],
 "metadata": {
  "kernelspec": {
   "display_name": "Python 3 (ipykernel)",
   "language": "python",
   "name": "python3"
  },
  "language_info": {
   "codemirror_mode": {
    "name": "ipython",
    "version": 3
   },
   "file_extension": ".py",
   "mimetype": "text/x-python",
   "name": "python",
   "nbconvert_exporter": "python",
   "pygments_lexer": "ipython3",
   "version": "3.10.0"
  }
 },
 "nbformat": 4,
 "nbformat_minor": 5
}
